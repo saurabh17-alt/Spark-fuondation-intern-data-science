{
 "cells": [
  {
   "cell_type": "code",
   "execution_count": 1,
   "id": "ee2d6901",
   "metadata": {
    "_cell_guid": "b1076dfc-b9ad-4769-8c92-a6c4dae69d19",
    "_uuid": "8f2839f25d086af736a60e9eeb907d3b93b6e0e5",
    "execution": {
     "iopub.execute_input": "2022-11-07T05:49:14.818280Z",
     "iopub.status.busy": "2022-11-07T05:49:14.817782Z",
     "iopub.status.idle": "2022-11-07T05:49:15.884996Z",
     "shell.execute_reply": "2022-11-07T05:49:15.883005Z"
    },
    "papermill": {
     "duration": 1.07914,
     "end_time": "2022-11-07T05:49:15.888190",
     "exception": false,
     "start_time": "2022-11-07T05:49:14.809050",
     "status": "completed"
    },
    "tags": []
   },
   "outputs": [
    {
     "name": "stdout",
     "output_type": "stream",
     "text": [
      "/kaggle/input/heart-attack-analysis-prediction-dataset/o2Saturation.csv\n",
      "/kaggle/input/heart-attack-analysis-prediction-dataset/heart.csv\n"
     ]
    }
   ],
   "source": [
    "import numpy as np # linear algebra\n",
    "import pandas as pd # data processing, CSV file I/O (e.g. pd.read_csv)\n",
    "import matplotlib.pyplot as plt\n",
    "import seaborn as sns\n",
    "import os\n",
    "for dirname, _, filenames in os.walk('/kaggle/input'):\n",
    "    for filename in filenames:\n",
    "        print(os.path.join(dirname, filename))"
   ]
  },
  {
   "cell_type": "code",
   "execution_count": 2,
   "id": "fa1678e5",
   "metadata": {
    "execution": {
     "iopub.execute_input": "2022-11-07T05:49:15.903013Z",
     "iopub.status.busy": "2022-11-07T05:49:15.902565Z",
     "iopub.status.idle": "2022-11-07T05:49:15.922442Z",
     "shell.execute_reply": "2022-11-07T05:49:15.921306Z"
    },
    "papermill": {
     "duration": 0.030455,
     "end_time": "2022-11-07T05:49:15.925288",
     "exception": false,
     "start_time": "2022-11-07T05:49:15.894833",
     "status": "completed"
    },
    "tags": []
   },
   "outputs": [],
   "source": [
    "df = pd.read_csv(\"/kaggle/input/heart-attack-analysis-prediction-dataset/heart.csv\")"
   ]
  },
  {
   "cell_type": "code",
   "execution_count": 3,
   "id": "60759617",
   "metadata": {
    "execution": {
     "iopub.execute_input": "2022-11-07T05:49:15.938828Z",
     "iopub.status.busy": "2022-11-07T05:49:15.938402Z",
     "iopub.status.idle": "2022-11-07T05:49:15.963976Z",
     "shell.execute_reply": "2022-11-07T05:49:15.962874Z"
    },
    "papermill": {
     "duration": 0.036257,
     "end_time": "2022-11-07T05:49:15.967476",
     "exception": false,
     "start_time": "2022-11-07T05:49:15.931219",
     "status": "completed"
    },
    "tags": []
   },
   "outputs": [
    {
     "data": {
      "text/html": [
       "<div>\n",
       "<style scoped>\n",
       "    .dataframe tbody tr th:only-of-type {\n",
       "        vertical-align: middle;\n",
       "    }\n",
       "\n",
       "    .dataframe tbody tr th {\n",
       "        vertical-align: top;\n",
       "    }\n",
       "\n",
       "    .dataframe thead th {\n",
       "        text-align: right;\n",
       "    }\n",
       "</style>\n",
       "<table border=\"1\" class=\"dataframe\">\n",
       "  <thead>\n",
       "    <tr style=\"text-align: right;\">\n",
       "      <th></th>\n",
       "      <th>age</th>\n",
       "      <th>sex</th>\n",
       "      <th>cp</th>\n",
       "      <th>trtbps</th>\n",
       "      <th>chol</th>\n",
       "      <th>fbs</th>\n",
       "      <th>restecg</th>\n",
       "      <th>thalachh</th>\n",
       "      <th>exng</th>\n",
       "      <th>oldpeak</th>\n",
       "      <th>slp</th>\n",
       "      <th>caa</th>\n",
       "      <th>thall</th>\n",
       "      <th>output</th>\n",
       "    </tr>\n",
       "  </thead>\n",
       "  <tbody>\n",
       "    <tr>\n",
       "      <th>0</th>\n",
       "      <td>63</td>\n",
       "      <td>1</td>\n",
       "      <td>3</td>\n",
       "      <td>145</td>\n",
       "      <td>233</td>\n",
       "      <td>1</td>\n",
       "      <td>0</td>\n",
       "      <td>150</td>\n",
       "      <td>0</td>\n",
       "      <td>2.3</td>\n",
       "      <td>0</td>\n",
       "      <td>0</td>\n",
       "      <td>1</td>\n",
       "      <td>1</td>\n",
       "    </tr>\n",
       "    <tr>\n",
       "      <th>1</th>\n",
       "      <td>37</td>\n",
       "      <td>1</td>\n",
       "      <td>2</td>\n",
       "      <td>130</td>\n",
       "      <td>250</td>\n",
       "      <td>0</td>\n",
       "      <td>1</td>\n",
       "      <td>187</td>\n",
       "      <td>0</td>\n",
       "      <td>3.5</td>\n",
       "      <td>0</td>\n",
       "      <td>0</td>\n",
       "      <td>2</td>\n",
       "      <td>1</td>\n",
       "    </tr>\n",
       "    <tr>\n",
       "      <th>2</th>\n",
       "      <td>41</td>\n",
       "      <td>0</td>\n",
       "      <td>1</td>\n",
       "      <td>130</td>\n",
       "      <td>204</td>\n",
       "      <td>0</td>\n",
       "      <td>0</td>\n",
       "      <td>172</td>\n",
       "      <td>0</td>\n",
       "      <td>1.4</td>\n",
       "      <td>2</td>\n",
       "      <td>0</td>\n",
       "      <td>2</td>\n",
       "      <td>1</td>\n",
       "    </tr>\n",
       "    <tr>\n",
       "      <th>3</th>\n",
       "      <td>56</td>\n",
       "      <td>1</td>\n",
       "      <td>1</td>\n",
       "      <td>120</td>\n",
       "      <td>236</td>\n",
       "      <td>0</td>\n",
       "      <td>1</td>\n",
       "      <td>178</td>\n",
       "      <td>0</td>\n",
       "      <td>0.8</td>\n",
       "      <td>2</td>\n",
       "      <td>0</td>\n",
       "      <td>2</td>\n",
       "      <td>1</td>\n",
       "    </tr>\n",
       "    <tr>\n",
       "      <th>4</th>\n",
       "      <td>57</td>\n",
       "      <td>0</td>\n",
       "      <td>0</td>\n",
       "      <td>120</td>\n",
       "      <td>354</td>\n",
       "      <td>0</td>\n",
       "      <td>1</td>\n",
       "      <td>163</td>\n",
       "      <td>1</td>\n",
       "      <td>0.6</td>\n",
       "      <td>2</td>\n",
       "      <td>0</td>\n",
       "      <td>2</td>\n",
       "      <td>1</td>\n",
       "    </tr>\n",
       "  </tbody>\n",
       "</table>\n",
       "</div>"
      ],
      "text/plain": [
       "   age  sex  cp  trtbps  chol  fbs  restecg  thalachh  exng  oldpeak  slp  \\\n",
       "0   63    1   3     145   233    1        0       150     0      2.3    0   \n",
       "1   37    1   2     130   250    0        1       187     0      3.5    0   \n",
       "2   41    0   1     130   204    0        0       172     0      1.4    2   \n",
       "3   56    1   1     120   236    0        1       178     0      0.8    2   \n",
       "4   57    0   0     120   354    0        1       163     1      0.6    2   \n",
       "\n",
       "   caa  thall  output  \n",
       "0    0      1       1  \n",
       "1    0      2       1  \n",
       "2    0      2       1  \n",
       "3    0      2       1  \n",
       "4    0      2       1  "
      ]
     },
     "execution_count": 3,
     "metadata": {},
     "output_type": "execute_result"
    }
   ],
   "source": [
    "df.head()"
   ]
  },
  {
   "cell_type": "code",
   "execution_count": 4,
   "id": "0303d04b",
   "metadata": {
    "execution": {
     "iopub.execute_input": "2022-11-07T05:49:15.983094Z",
     "iopub.status.busy": "2022-11-07T05:49:15.982241Z",
     "iopub.status.idle": "2022-11-07T05:49:16.392990Z",
     "shell.execute_reply": "2022-11-07T05:49:16.391868Z"
    },
    "papermill": {
     "duration": 0.421235,
     "end_time": "2022-11-07T05:49:16.395488",
     "exception": false,
     "start_time": "2022-11-07T05:49:15.974253",
     "status": "completed"
    },
    "tags": []
   },
   "outputs": [
    {
     "data": {
      "text/plain": [
       "Text(0.5, 1.0, 'Age Ratio')"
      ]
     },
     "execution_count": 4,
     "metadata": {},
     "output_type": "execute_result"
    },
    {
     "data": {
      "image/png": "[encoded data removed]",
      "text/plain": [
       "<Figure size 1152x432 with 1 Axes>"
      ]
     },
     "metadata": {
      "needs_background": "light"
     },
     "output_type": "display_data"
    }
   ],
   "source": [
    "plt.figure(figsize=(16,6))\n",
    "sns.histplot(df,x=\"age\",hue=\"output\")\n",
    "plt.title(\"Age Ratio\")"
   ]
  },
  {
   "cell_type": "code",
   "execution_count": 5,
   "id": "01a3f848",
   "metadata": {
    "execution": {
     "iopub.execute_input": "2022-11-07T05:49:16.409894Z",
     "iopub.status.busy": "2022-11-07T05:49:16.409518Z",
     "iopub.status.idle": "2022-11-07T05:49:16.580695Z",
     "shell.execute_reply": "2022-11-07T05:49:16.579502Z"
    },
    "papermill": {
     "duration": 0.18133,
     "end_time": "2022-11-07T05:49:16.583166",
     "exception": false,
     "start_time": "2022-11-07T05:49:16.401836",
     "status": "completed"
    },
    "tags": []
   },
   "outputs": [
    {
     "data": {
      "text/plain": [
       "Text(0.5, 1.0, 'Sex comparison')"
      ]
     },
     "execution_count": 5,
     "metadata": {},
     "output_type": "execute_result"
    },
    {
     "data": {
      "image/png": "[encoded data removed]",
      "text/plain": [
       "<Figure size 1152x432 with 1 Axes>"
      ]
     },
     "metadata": {
      "needs_background": "light"
     },
     "output_type": "display_data"
    }
   ],
   "source": [
    "plt.figure(figsize=(16,6))\n",
    "sns.countplot(x=df[\"sex\"],hue=df[\"output\"])\n",
    "plt.title(\"Sex comparison\")#1 indicates man 0 indicates woman"
   ]
  },
  {
   "cell_type": "code",
   "execution_count": 6,
   "id": "22d67672",
   "metadata": {
    "execution": {
     "iopub.execute_input": "2022-11-07T05:49:16.604803Z",
     "iopub.status.busy": "2022-11-07T05:49:16.604376Z",
     "iopub.status.idle": "2022-11-07T05:49:16.879632Z",
     "shell.execute_reply": "2022-11-07T05:49:16.878759Z"
    },
    "papermill": {
     "duration": 0.28816,
     "end_time": "2022-11-07T05:49:16.882204",
     "exception": false,
     "start_time": "2022-11-07T05:49:16.594044",
     "status": "completed"
    },
    "tags": []
   },
   "outputs": [
    {
     "data": {
      "text/plain": [
       "Text(0.5, 1.0, 'Chest Pain relation')"
      ]
     },
     "execution_count": 6,
     "metadata": {},
     "output_type": "execute_result"
    },
    {
     "data": {
      "image/png": "[encoded data removed]",
      "text/plain": [
       "<Figure size 1152x432 with 1 Axes>"
      ]
     },
     "metadata": {
      "needs_background": "light"
     },
     "output_type": "display_data"
    }
   ],
   "source": [
    "plt.figure(figsize=(16,6))\n",
    "sns.countplot(x=df[\"cp\"],hue=df[\"output\"])\n",
    "plt.title(\"Chest Pain relation\")"
   ]
  },
  {
   "cell_type": "code",
   "execution_count": 7,
   "id": "6e8053c9",
   "metadata": {
    "execution": {
     "iopub.execute_input": "2022-11-07T05:49:16.898677Z",
     "iopub.status.busy": "2022-11-07T05:49:16.898258Z",
     "iopub.status.idle": "2022-11-07T05:49:17.247280Z",
     "shell.execute_reply": "2022-11-07T05:49:17.245960Z"
    },
    "papermill": {
     "duration": 0.360326,
     "end_time": "2022-11-07T05:49:17.250109",
     "exception": false,
     "start_time": "2022-11-07T05:49:16.889783",
     "status": "completed"
    },
    "tags": []
   },
   "outputs": [
    {
     "data": {
      "text/plain": [
       "Text(0.5, 1.0, 'Rest Blood Pressure')"
      ]
     },
     "execution_count": 7,
     "metadata": {},
     "output_type": "execute_result"
    },
    {
     "data": {
      "image/png": "[encoded data removed]",
      "text/plain": [
       "<Figure size 1152x432 with 1 Axes>"
      ]
     },
     "metadata": {
      "needs_background": "light"
     },
     "output_type": "display_data"
    }
   ],
   "source": [
    "plt.figure(figsize=(16,6))\n",
    "sns.histplot(x=df[\"trtbps\"],hue=df[\"output\"],bins=8)\n",
    "plt.title(\"Rest Blood Pressure\")"
   ]
  },
  {
   "cell_type": "code",
   "execution_count": 8,
   "id": "27fb2cf9",
   "metadata": {
    "execution": {
     "iopub.execute_input": "2022-11-07T05:49:17.269993Z",
     "iopub.status.busy": "2022-11-07T05:49:17.269065Z",
     "iopub.status.idle": "2022-11-07T05:49:17.529404Z",
     "shell.execute_reply": "2022-11-07T05:49:17.528196Z"
    },
    "papermill": {
     "duration": 0.274391,
     "end_time": "2022-11-07T05:49:17.532680",
     "exception": false,
     "start_time": "2022-11-07T05:49:17.258289",
     "status": "completed"
    },
    "tags": []
   },
   "outputs": [
    {
     "data": {
      "text/plain": [
       "Text(0.5, 1.0, 'Exercise comparison')"
      ]
     },
     "execution_count": 8,
     "metadata": {},
     "output_type": "execute_result"
    },
    {
     "data": {
      "image/png": "[encoded data removed]",
      "text/plain": [
       "<Figure size 1152x432 with 1 Axes>"
      ]
     },
     "metadata": {
      "needs_background": "light"
     },
     "output_type": "display_data"
    }
   ],
   "source": [
    "plt.figure(figsize=(16,6))\n",
    "sns.countplot(x=df[\"exng\"],hue=df[\"output\"])\n",
    "plt.title(\"Exercise comparison\")"
   ]
  },
  {
   "cell_type": "code",
   "execution_count": 9,
   "id": "77be97de",
   "metadata": {
    "execution": {
     "iopub.execute_input": "2022-11-07T05:49:17.552451Z",
     "iopub.status.busy": "2022-11-07T05:49:17.551817Z",
     "iopub.status.idle": "2022-11-07T05:49:17.996672Z",
     "shell.execute_reply": "2022-11-07T05:49:17.995448Z"
    },
    "papermill": {
     "duration": 0.457148,
     "end_time": "2022-11-07T05:49:17.999253",
     "exception": false,
     "start_time": "2022-11-07T05:49:17.542105",
     "status": "completed"
    },
    "tags": []
   },
   "outputs": [
    {
     "data": {
      "text/plain": [
       "Text(0.5, 1.0, 'Cholestoral')"
      ]
     },
     "execution_count": 9,
     "metadata": {},
     "output_type": "execute_result"
    },
    {
     "data": {
      "image/png": "[encoded data removed]",
      "text/plain": [
       "<Figure size 1152x432 with 1 Axes>"
      ]
     },
     "metadata": {
      "needs_background": "light"
     },
     "output_type": "display_data"
    }
   ],
   "source": [
    "plt.figure(figsize=(16,6))\n",
    "sns.histplot(x=df[\"chol\"],hue=df[\"output\"])\n",
    "plt.title(\"Cholestoral\")"
   ]
  },
  {
   "cell_type": "code",
   "execution_count": 10,
   "id": "ddf238c5",
   "metadata": {
    "execution": {
     "iopub.execute_input": "2022-11-07T05:49:18.017404Z",
     "iopub.status.busy": "2022-11-07T05:49:18.017011Z",
     "iopub.status.idle": "2022-11-07T05:49:18.041871Z",
     "shell.execute_reply": "2022-11-07T05:49:18.040820Z"
    },
    "papermill": {
     "duration": 0.036713,
     "end_time": "2022-11-07T05:49:18.044257",
     "exception": false,
     "start_time": "2022-11-07T05:49:18.007544",
     "status": "completed"
    },
    "tags": []
   },
   "outputs": [
    {
     "data": {
      "text/html": [
       "<div>\n",
       "<style scoped>\n",
       "    .dataframe tbody tr th:only-of-type {\n",
       "        vertical-align: middle;\n",
       "    }\n",
       "\n",
       "    .dataframe tbody tr th {\n",
       "        vertical-align: top;\n",
       "    }\n",
       "\n",
       "    .dataframe thead th {\n",
       "        text-align: right;\n",
       "    }\n",
       "</style>\n",
       "<table border=\"1\" class=\"dataframe\">\n",
       "  <thead>\n",
       "    <tr style=\"text-align: right;\">\n",
       "      <th></th>\n",
       "      <th>age</th>\n",
       "      <th>sex</th>\n",
       "      <th>cp</th>\n",
       "      <th>trtbps</th>\n",
       "      <th>chol</th>\n",
       "      <th>fbs</th>\n",
       "      <th>restecg</th>\n",
       "      <th>thalachh</th>\n",
       "      <th>exng</th>\n",
       "      <th>oldpeak</th>\n",
       "      <th>slp</th>\n",
       "      <th>caa</th>\n",
       "      <th>thall</th>\n",
       "      <th>output</th>\n",
       "    </tr>\n",
       "  </thead>\n",
       "  <tbody>\n",
       "    <tr>\n",
       "      <th>age</th>\n",
       "      <td>1.000000</td>\n",
       "      <td>-0.098447</td>\n",
       "      <td>-0.068653</td>\n",
       "      <td>0.279351</td>\n",
       "      <td>0.213678</td>\n",
       "      <td>0.121308</td>\n",
       "      <td>-0.116211</td>\n",
       "      <td>-0.398522</td>\n",
       "      <td>0.096801</td>\n",
       "      <td>0.210013</td>\n",
       "      <td>-0.168814</td>\n",
       "      <td>0.276326</td>\n",
       "      <td>0.068001</td>\n",
       "      <td>-0.225439</td>\n",
       "    </tr>\n",
       "    <tr>\n",
       "      <th>sex</th>\n",
       "      <td>-0.098447</td>\n",
       "      <td>1.000000</td>\n",
       "      <td>-0.049353</td>\n",
       "      <td>-0.056769</td>\n",
       "      <td>-0.197912</td>\n",
       "      <td>0.045032</td>\n",
       "      <td>-0.058196</td>\n",
       "      <td>-0.044020</td>\n",
       "      <td>0.141664</td>\n",
       "      <td>0.096093</td>\n",
       "      <td>-0.030711</td>\n",
       "      <td>0.118261</td>\n",
       "      <td>0.210041</td>\n",
       "      <td>-0.280937</td>\n",
       "    </tr>\n",
       "    <tr>\n",
       "      <th>cp</th>\n",
       "      <td>-0.068653</td>\n",
       "      <td>-0.049353</td>\n",
       "      <td>1.000000</td>\n",
       "      <td>0.047608</td>\n",
       "      <td>-0.076904</td>\n",
       "      <td>0.094444</td>\n",
       "      <td>0.044421</td>\n",
       "      <td>0.295762</td>\n",
       "      <td>-0.394280</td>\n",
       "      <td>-0.149230</td>\n",
       "      <td>0.119717</td>\n",
       "      <td>-0.181053</td>\n",
       "      <td>-0.161736</td>\n",
       "      <td>0.433798</td>\n",
       "    </tr>\n",
       "    <tr>\n",
       "      <th>trtbps</th>\n",
       "      <td>0.279351</td>\n",
       "      <td>-0.056769</td>\n",
       "      <td>0.047608</td>\n",
       "      <td>1.000000</td>\n",
       "      <td>0.123174</td>\n",
       "      <td>0.177531</td>\n",
       "      <td>-0.114103</td>\n",
       "      <td>-0.046698</td>\n",
       "      <td>0.067616</td>\n",
       "      <td>0.193216</td>\n",
       "      <td>-0.121475</td>\n",
       "      <td>0.101389</td>\n",
       "      <td>0.062210</td>\n",
       "      <td>-0.144931</td>\n",
       "    </tr>\n",
       "    <tr>\n",
       "      <th>chol</th>\n",
       "      <td>0.213678</td>\n",
       "      <td>-0.197912</td>\n",
       "      <td>-0.076904</td>\n",
       "      <td>0.123174</td>\n",
       "      <td>1.000000</td>\n",
       "      <td>0.013294</td>\n",
       "      <td>-0.151040</td>\n",
       "      <td>-0.009940</td>\n",
       "      <td>0.067023</td>\n",
       "      <td>0.053952</td>\n",
       "      <td>-0.004038</td>\n",
       "      <td>0.070511</td>\n",
       "      <td>0.098803</td>\n",
       "      <td>-0.085239</td>\n",
       "    </tr>\n",
       "    <tr>\n",
       "      <th>fbs</th>\n",
       "      <td>0.121308</td>\n",
       "      <td>0.045032</td>\n",
       "      <td>0.094444</td>\n",
       "      <td>0.177531</td>\n",
       "      <td>0.013294</td>\n",
       "      <td>1.000000</td>\n",
       "      <td>-0.084189</td>\n",
       "      <td>-0.008567</td>\n",
       "      <td>0.025665</td>\n",
       "      <td>0.005747</td>\n",
       "      <td>-0.059894</td>\n",
       "      <td>0.137979</td>\n",
       "      <td>-0.032019</td>\n",
       "      <td>-0.028046</td>\n",
       "    </tr>\n",
       "    <tr>\n",
       "      <th>restecg</th>\n",
       "      <td>-0.116211</td>\n",
       "      <td>-0.058196</td>\n",
       "      <td>0.044421</td>\n",
       "      <td>-0.114103</td>\n",
       "      <td>-0.151040</td>\n",
       "      <td>-0.084189</td>\n",
       "      <td>1.000000</td>\n",
       "      <td>0.044123</td>\n",
       "      <td>-0.070733</td>\n",
       "      <td>-0.058770</td>\n",
       "      <td>0.093045</td>\n",
       "      <td>-0.072042</td>\n",
       "      <td>-0.011981</td>\n",
       "      <td>0.137230</td>\n",
       "    </tr>\n",
       "    <tr>\n",
       "      <th>thalachh</th>\n",
       "      <td>-0.398522</td>\n",
       "      <td>-0.044020</td>\n",
       "      <td>0.295762</td>\n",
       "      <td>-0.046698</td>\n",
       "      <td>-0.009940</td>\n",
       "      <td>-0.008567</td>\n",
       "      <td>0.044123</td>\n",
       "      <td>1.000000</td>\n",
       "      <td>-0.378812</td>\n",
       "      <td>-0.344187</td>\n",
       "      <td>0.386784</td>\n",
       "      <td>-0.213177</td>\n",
       "      <td>-0.096439</td>\n",
       "      <td>0.421741</td>\n",
       "    </tr>\n",
       "    <tr>\n",
       "      <th>exng</th>\n",
       "      <td>0.096801</td>\n",
       "      <td>0.141664</td>\n",
       "      <td>-0.394280</td>\n",
       "      <td>0.067616</td>\n",
       "      <td>0.067023</td>\n",
       "      <td>0.025665</td>\n",
       "      <td>-0.070733</td>\n",
       "      <td>-0.378812</td>\n",
       "      <td>1.000000</td>\n",
       "      <td>0.288223</td>\n",
       "      <td>-0.257748</td>\n",
       "      <td>0.115739</td>\n",
       "      <td>0.206754</td>\n",
       "      <td>-0.436757</td>\n",
       "    </tr>\n",
       "    <tr>\n",
       "      <th>oldpeak</th>\n",
       "      <td>0.210013</td>\n",
       "      <td>0.096093</td>\n",
       "      <td>-0.149230</td>\n",
       "      <td>0.193216</td>\n",
       "      <td>0.053952</td>\n",
       "      <td>0.005747</td>\n",
       "      <td>-0.058770</td>\n",
       "      <td>-0.344187</td>\n",
       "      <td>0.288223</td>\n",
       "      <td>1.000000</td>\n",
       "      <td>-0.577537</td>\n",
       "      <td>0.222682</td>\n",
       "      <td>0.210244</td>\n",
       "      <td>-0.430696</td>\n",
       "    </tr>\n",
       "    <tr>\n",
       "      <th>slp</th>\n",
       "      <td>-0.168814</td>\n",
       "      <td>-0.030711</td>\n",
       "      <td>0.119717</td>\n",
       "      <td>-0.121475</td>\n",
       "      <td>-0.004038</td>\n",
       "      <td>-0.059894</td>\n",
       "      <td>0.093045</td>\n",
       "      <td>0.386784</td>\n",
       "      <td>-0.257748</td>\n",
       "      <td>-0.577537</td>\n",
       "      <td>1.000000</td>\n",
       "      <td>-0.080155</td>\n",
       "      <td>-0.104764</td>\n",
       "      <td>0.345877</td>\n",
       "    </tr>\n",
       "    <tr>\n",
       "      <th>caa</th>\n",
       "      <td>0.276326</td>\n",
       "      <td>0.118261</td>\n",
       "      <td>-0.181053</td>\n",
       "      <td>0.101389</td>\n",
       "      <td>0.070511</td>\n",
       "      <td>0.137979</td>\n",
       "      <td>-0.072042</td>\n",
       "      <td>-0.213177</td>\n",
       "      <td>0.115739</td>\n",
       "      <td>0.222682</td>\n",
       "      <td>-0.080155</td>\n",
       "      <td>1.000000</td>\n",
       "      <td>0.151832</td>\n",
       "      <td>-0.391724</td>\n",
       "    </tr>\n",
       "    <tr>\n",
       "      <th>thall</th>\n",
       "      <td>0.068001</td>\n",
       "      <td>0.210041</td>\n",
       "      <td>-0.161736</td>\n",
       "      <td>0.062210</td>\n",
       "      <td>0.098803</td>\n",
       "      <td>-0.032019</td>\n",
       "      <td>-0.011981</td>\n",
       "      <td>-0.096439</td>\n",
       "      <td>0.206754</td>\n",
       "      <td>0.210244</td>\n",
       "      <td>-0.104764</td>\n",
       "      <td>0.151832</td>\n",
       "      <td>1.000000</td>\n",
       "      <td>-0.344029</td>\n",
       "    </tr>\n",
       "    <tr>\n",
       "      <th>output</th>\n",
       "      <td>-0.225439</td>\n",
       "      <td>-0.280937</td>\n",
       "      <td>0.433798</td>\n",
       "      <td>-0.144931</td>\n",
       "      <td>-0.085239</td>\n",
       "      <td>-0.028046</td>\n",
       "      <td>0.137230</td>\n",
       "      <td>0.421741</td>\n",
       "      <td>-0.436757</td>\n",
       "      <td>-0.430696</td>\n",
       "      <td>0.345877</td>\n",
       "      <td>-0.391724</td>\n",
       "      <td>-0.344029</td>\n",
       "      <td>1.000000</td>\n",
       "    </tr>\n",
       "  </tbody>\n",
       "</table>\n",
       "</div>"
      ],
      "text/plain": [
       "               age       sex        cp    trtbps      chol       fbs  \\\n",
       "age       1.000000 -0.098447 -0.068653  0.279351  0.213678  0.121308   \n",
       "sex      -0.098447  1.000000 -0.049353 -0.056769 -0.197912  0.045032   \n",
       "cp       -0.068653 -0.049353  1.000000  0.047608 -0.076904  0.094444   \n",
       "trtbps    0.279351 -0.056769  0.047608  1.000000  0.123174  0.177531   \n",
       "chol      0.213678 -0.197912 -0.076904  0.123174  1.000000  0.013294   \n",
       "fbs       0.121308  0.045032  0.094444  0.177531  0.013294  1.000000   \n",
       "restecg  -0.116211 -0.058196  0.044421 -0.114103 -0.151040 -0.084189   \n",
       "thalachh -0.398522 -0.044020  0.295762 -0.046698 -0.009940 -0.008567   \n",
       "exng      0.096801  0.141664 -0.394280  0.067616  0.067023  0.025665   \n",
       "oldpeak   0.210013  0.096093 -0.149230  0.193216  0.053952  0.005747   \n",
       "slp      -0.168814 -0.030711  0.119717 -0.121475 -0.004038 -0.059894   \n",
       "caa       0.276326  0.118261 -0.181053  0.101389  0.070511  0.137979   \n",
       "thall     0.068001  0.210041 -0.161736  0.062210  0.098803 -0.032019   \n",
       "output   -0.225439 -0.280937  0.433798 -0.144931 -0.085239 -0.028046   \n",
       "\n",
       "           restecg  thalachh      exng   oldpeak       slp       caa  \\\n",
       "age      -0.116211 -0.398522  0.096801  0.210013 -0.168814  0.276326   \n",
       "sex      -0.058196 -0.044020  0.141664  0.096093 -0.030711  0.118261   \n",
       "cp        0.044421  0.295762 -0.394280 -0.149230  0.119717 -0.181053   \n",
       "trtbps   -0.114103 -0.046698  0.067616  0.193216 -0.121475  0.101389   \n",
       "chol     -0.151040 -0.009940  0.067023  0.053952 -0.004038  0.070511   \n",
       "fbs      -0.084189 -0.008567  0.025665  0.005747 -0.059894  0.137979   \n",
       "restecg   1.000000  0.044123 -0.070733 -0.058770  0.093045 -0.072042   \n",
       "thalachh  0.044123  1.000000 -0.378812 -0.344187  0.386784 -0.213177   \n",
       "exng     -0.070733 -0.378812  1.000000  0.288223 -0.257748  0.115739   \n",
       "oldpeak  -0.058770 -0.344187  0.288223  1.000000 -0.577537  0.222682   \n",
       "slp       0.093045  0.386784 -0.257748 -0.577537  1.000000 -0.080155   \n",
       "caa      -0.072042 -0.213177  0.115739  0.222682 -0.080155  1.000000   \n",
       "thall    -0.011981 -0.096439  0.206754  0.210244 -0.104764  0.151832   \n",
       "output    0.137230  0.421741 -0.436757 -0.430696  0.345877 -0.391724   \n",
       "\n",
       "             thall    output  \n",
       "age       0.068001 -0.225439  \n",
       "sex       0.210041 -0.280937  \n",
       "cp       -0.161736  0.433798  \n",
       "trtbps    0.062210 -0.144931  \n",
       "chol      0.098803 -0.085239  \n",
       "fbs      -0.032019 -0.028046  \n",
       "restecg  -0.011981  0.137230  \n",
       "thalachh -0.096439  0.421741  \n",
       "exng      0.206754 -0.436757  \n",
       "oldpeak   0.210244 -0.430696  \n",
       "slp      -0.104764  0.345877  \n",
       "caa       0.151832 -0.391724  \n",
       "thall     1.000000 -0.344029  \n",
       "output   -0.344029  1.000000  "
      ]
     },
     "execution_count": 10,
     "metadata": {},
     "output_type": "execute_result"
    }
   ],
   "source": [
    "df.corr()"
   ]
  },
  {
   "cell_type": "code",
   "execution_count": 11,
   "id": "cca7cdc0",
   "metadata": {
    "execution": {
     "iopub.execute_input": "2022-11-07T05:49:18.063019Z",
     "iopub.status.busy": "2022-11-07T05:49:18.062658Z",
     "iopub.status.idle": "2022-11-07T05:49:18.507500Z",
     "shell.execute_reply": "2022-11-07T05:49:18.505989Z"
    },
    "papermill": {
     "duration": 0.458351,
     "end_time": "2022-11-07T05:49:18.511136",
     "exception": false,
     "start_time": "2022-11-07T05:49:18.052785",
     "status": "completed"
    },
    "tags": []
   },
   "outputs": [
    {
     "data": {
      "text/plain": [
       "<AxesSubplot:>"
      ]
     },
     "execution_count": 11,
     "metadata": {},
     "output_type": "execute_result"
    },
    {
     "data": {
      "image/png": "[encoded data removed]",
      "text/plain": [
       "<Figure size 720x720 with 2 Axes>"
      ]
     },
     "metadata": {
      "needs_background": "light"
     },
     "output_type": "display_data"
    }
   ],
   "source": [
    "plt.figure(figsize=(10,10))\n",
    "sns.heatmap(df.corr())"
   ]
  },
  {
   "cell_type": "code",
   "execution_count": 12,
   "id": "6dc7798c",
   "metadata": {
    "execution": {
     "iopub.execute_input": "2022-11-07T05:49:18.532603Z",
     "iopub.status.busy": "2022-11-07T05:49:18.532176Z",
     "iopub.status.idle": "2022-11-07T05:49:18.934250Z",
     "shell.execute_reply": "2022-11-07T05:49:18.932626Z"
    },
    "papermill": {
     "duration": 0.415623,
     "end_time": "2022-11-07T05:49:18.937278",
     "exception": false,
     "start_time": "2022-11-07T05:49:18.521655",
     "status": "completed"
    },
    "tags": []
   },
   "outputs": [
    {
     "data": {
      "text/plain": [
       "Text(0.5, 1.0, 'Maximum Heart Rate Reached')"
      ]
     },
     "execution_count": 12,
     "metadata": {},
     "output_type": "execute_result"
    },
    {
     "data": {
      "image/png": "[encoded data removed]",
      "text/plain": [
       "<Figure size 1440x432 with 1 Axes>"
      ]
     },
     "metadata": {
      "needs_background": "light"
     },
     "output_type": "display_data"
    }
   ],
   "source": [
    "plt.figure(figsize=(20,6))\n",
    "sns.histplot(x=df[\"thalachh\"],hue=df[\"output\"])\n",
    "plt.title(\"Maximum Heart Rate Reached\")"
   ]
  },
  {
   "cell_type": "code",
   "execution_count": 13,
   "id": "6ad07bf8",
   "metadata": {
    "execution": {
     "iopub.execute_input": "2022-11-07T05:49:18.962828Z",
     "iopub.status.busy": "2022-11-07T05:49:18.962308Z",
     "iopub.status.idle": "2022-11-07T05:49:19.367027Z",
     "shell.execute_reply": "2022-11-07T05:49:19.365830Z"
    },
    "papermill": {
     "duration": 0.422372,
     "end_time": "2022-11-07T05:49:19.371261",
     "exception": false,
     "start_time": "2022-11-07T05:49:18.948889",
     "status": "completed"
    },
    "tags": []
   },
   "outputs": [
    {
     "data": {
      "text/plain": [
       "Text(0.5, 1.0, 'Number of Major Vessels')"
      ]
     },
     "execution_count": 13,
     "metadata": {},
     "output_type": "execute_result"
    },
    {
     "data": {
      "image/png": "[encoded data removed]",
      "text/plain": [
       "<Figure size 1440x432 with 1 Axes>"
      ]
     },
     "metadata": {
      "needs_background": "light"
     },
     "output_type": "display_data"
    }
   ],
   "source": [
    "plt.figure(figsize=(20,6))\n",
    "sns.histplot(x=df[\"caa\"],hue=df[\"output\"])\n",
    "plt.title(\"Number of Major Vessels\")"
   ]
  },
  {
   "cell_type": "code",
   "execution_count": 14,
   "id": "02188108",
   "metadata": {
    "execution": {
     "iopub.execute_input": "2022-11-07T05:49:19.397004Z",
     "iopub.status.busy": "2022-11-07T05:49:19.396576Z",
     "iopub.status.idle": "2022-11-07T05:49:19.536124Z",
     "shell.execute_reply": "2022-11-07T05:49:19.534890Z"
    },
    "papermill": {
     "duration": 0.154247,
     "end_time": "2022-11-07T05:49:19.538746",
     "exception": false,
     "start_time": "2022-11-07T05:49:19.384499",
     "status": "completed"
    },
    "tags": []
   },
   "outputs": [],
   "source": [
    "from sklearn.preprocessing import StandardScaler,OneHotEncoder\n",
    "ohe = OneHotEncoder()\n",
    "sc = StandardScaler()"
   ]
  },
  {
   "cell_type": "code",
   "execution_count": 15,
   "id": "216d95ed",
   "metadata": {
    "execution": {
     "iopub.execute_input": "2022-11-07T05:49:19.560969Z",
     "iopub.status.busy": "2022-11-07T05:49:19.560542Z",
     "iopub.status.idle": "2022-11-07T05:49:19.568048Z",
     "shell.execute_reply": "2022-11-07T05:49:19.566780Z"
    },
    "papermill": {
     "duration": 0.02143,
     "end_time": "2022-11-07T05:49:19.570435",
     "exception": false,
     "start_time": "2022-11-07T05:49:19.549005",
     "status": "completed"
    },
    "tags": []
   },
   "outputs": [],
   "source": [
    "df1 = df.iloc[:,[1,2,5,6,8,10,11,12]]\n",
    "df2 = df.iloc[:,[0,3,4,7,9]]\n",
    "y=df.iloc[:,13]"
   ]
  },
  {
   "cell_type": "code",
   "execution_count": 16,
   "id": "e4551312",
   "metadata": {
    "execution": {
     "iopub.execute_input": "2022-11-07T05:49:19.592622Z",
     "iopub.status.busy": "2022-11-07T05:49:19.591505Z",
     "iopub.status.idle": "2022-11-07T05:49:19.605382Z",
     "shell.execute_reply": "2022-11-07T05:49:19.604236Z"
    },
    "papermill": {
     "duration": 0.027254,
     "end_time": "2022-11-07T05:49:19.607861",
     "exception": false,
     "start_time": "2022-11-07T05:49:19.580607",
     "status": "completed"
    },
    "tags": []
   },
   "outputs": [],
   "source": [
    "df1 = pd.DataFrame(ohe.fit_transform(df1).toarray())\n",
    "df2 = pd.DataFrame(sc.fit_transform(df2))"
   ]
  },
  {
   "cell_type": "code",
   "execution_count": 17,
   "id": "4d5eb5e1",
   "metadata": {
    "execution": {
     "iopub.execute_input": "2022-11-07T05:49:19.629317Z",
     "iopub.status.busy": "2022-11-07T05:49:19.628913Z",
     "iopub.status.idle": "2022-11-07T05:49:19.634947Z",
     "shell.execute_reply": "2022-11-07T05:49:19.634107Z"
    },
    "papermill": {
     "duration": 0.019741,
     "end_time": "2022-11-07T05:49:19.637548",
     "exception": false,
     "start_time": "2022-11-07T05:49:19.617807",
     "status": "completed"
    },
    "tags": []
   },
   "outputs": [],
   "source": [
    "df = pd.concat([df1,df2],axis=1)\n",
    "df.columns = [a for a in range(0,len(df.columns))]"
   ]
  },
  {
   "cell_type": "code",
   "execution_count": 18,
   "id": "6a80b423",
   "metadata": {
    "execution": {
     "iopub.execute_input": "2022-11-07T05:49:19.661046Z",
     "iopub.status.busy": "2022-11-07T05:49:19.659989Z",
     "iopub.status.idle": "2022-11-07T05:49:26.887006Z",
     "shell.execute_reply": "2022-11-07T05:49:26.885481Z"
    },
    "papermill": {
     "duration": 7.241789,
     "end_time": "2022-11-07T05:49:26.889728",
     "exception": false,
     "start_time": "2022-11-07T05:49:19.647939",
     "status": "completed"
    },
    "tags": []
   },
   "outputs": [
    {
     "name": "stdout",
     "output_type": "stream",
     "text": [
      "Model: \"sequential\"\n",
      "_________________________________________________________________\n",
      "Layer (type)                 Output Shape              Param #   \n",
      "=================================================================\n",
      "dense (Dense)                (None, 512)               15872     \n",
      "_________________________________________________________________\n",
      "dropout (Dropout)            (None, 512)               0         \n",
      "_________________________________________________________________\n",
      "dense_1 (Dense)              (None, 256)               131328    \n",
      "_________________________________________________________________\n",
      "dropout_1 (Dropout)          (None, 256)               0         \n",
      "_________________________________________________________________\n",
      "dense_2 (Dense)              (None, 128)               32896     \n",
      "_________________________________________________________________\n",
      "dropout_2 (Dropout)          (None, 128)               0         \n",
      "_________________________________________________________________\n",
      "dense_3 (Dense)              (None, 1)                 129       \n",
      "=================================================================\n",
      "Total params: 180,225\n",
      "Trainable params: 180,225\n",
      "Non-trainable params: 0\n",
      "_________________________________________________________________\n"
     ]
    },
    {
     "name": "stderr",
     "output_type": "stream",
     "text": [
      "2022-11-07 05:49:26.764327: I tensorflow/core/common_runtime/process_util.cc:146] Creating new thread pool with default inter op setting: 2. Tune using inter_op_parallelism_threads for best performance.\n",
      "/opt/conda/lib/python3.7/site-packages/keras/optimizer_v2/optimizer_v2.py:356: UserWarning: The `lr` argument is deprecated, use `learning_rate` instead.\n",
      "  \"The `lr` argument is deprecated, use `learning_rate` instead.\")\n"
     ]
    }
   ],
   "source": [
    "from keras.models import Sequential\n",
    "from keras.layers import Dense,Dropout\n",
    "from tensorflow.keras.optimizers import Adam\n",
    "from tensorflow.keras.losses import BinaryCrossentropy\n",
    "model = Sequential()\n",
    "model.add(Dense(512,activation='relu',input_shape=(30,)))\n",
    "#model.add(Dense(512,activation='relu'))\n",
    "model.add(Dropout(0.5))\n",
    "model.add(Dense(256,activation='relu'))\n",
    "#model.add(Dense(256,activation='relu'))\n",
    "model.add(Dropout(0.5))\n",
    "model.add(Dense(128,activation='relu'))\n",
    "#model.add(Dense(128,activation='relu'))\n",
    "model.add(Dropout(0.5))\n",
    "model.add(Dense(1,activation = 'sigmoid'))\n",
    "\n",
    "model.compile(loss=\"binary_crossentropy\", optimizer=Adam(lr=0.0001), metrics=['accuracy'])\n",
    "model.summary()"
   ]
  },
  {
   "cell_type": "code",
   "execution_count": 19,
   "id": "7b7a6b0d",
   "metadata": {
    "execution": {
     "iopub.execute_input": "2022-11-07T05:49:26.912536Z",
     "iopub.status.busy": "2022-11-07T05:49:26.912131Z",
     "iopub.status.idle": "2022-11-07T05:49:26.918477Z",
     "shell.execute_reply": "2022-11-07T05:49:26.917352Z"
    },
    "papermill": {
     "duration": 0.020195,
     "end_time": "2022-11-07T05:49:26.921009",
     "exception": false,
     "start_time": "2022-11-07T05:49:26.900814",
     "status": "completed"
    },
    "tags": []
   },
   "outputs": [],
   "source": [
    "from keras.callbacks import EarlyStopping\n",
    "cb = EarlyStopping(\n",
    "    monitor='accuracy',\n",
    "    min_delta=0.001,\n",
    "    patience=100,\n",
    "    mode='auto')"
   ]
  },
  {
   "cell_type": "code",
   "execution_count": 20,
   "id": "8da0b7e5",
   "metadata": {
    "execution": {
     "iopub.execute_input": "2022-11-07T05:49:26.942937Z",
     "iopub.status.busy": "2022-11-07T05:49:26.942472Z",
     "iopub.status.idle": "2022-11-07T05:49:46.743598Z",
     "shell.execute_reply": "2022-11-07T05:49:46.742336Z"
    },
    "papermill": {
     "duration": 19.815082,
     "end_time": "2022-11-07T05:49:46.746240",
     "exception": false,
     "start_time": "2022-11-07T05:49:26.931158",
     "status": "completed"
    },
    "tags": []
   },
   "outputs": [
    {
     "name": "stderr",
     "output_type": "stream",
     "text": [
      "2022-11-07 05:49:27.043227: I tensorflow/compiler/mlir/mlir_graph_optimization_pass.cc:185] None of the MLIR Optimization Passes are enabled (registered 2)\n"
     ]
    },
    {
     "name": "stdout",
     "output_type": "stream",
     "text": [
      "Epoch 1/1000\n",
      "1/1 [==============================] - 1s 1s/step - loss: 0.7021 - accuracy: 0.4816 - val_loss: 0.6735 - val_accuracy: 0.6774\n",
      "Epoch 2/1000\n",
      "1/1 [==============================] - 0s 47ms/step - loss: 0.6925 - accuracy: 0.5588 - val_loss: 0.6794 - val_accuracy: 0.6774\n",
      "Epoch 3/1000\n",
      "1/1 [==============================] - 0s 48ms/step - loss: 0.7129 - accuracy: 0.4926 - val_loss: 0.6852 - val_accuracy: 0.5806\n",
      "Epoch 4/1000\n",
      "1/1 [==============================] - 0s 47ms/step - loss: 0.7007 - accuracy: 0.5074 - val_loss: 0.6911 - val_accuracy: 0.5484\n",
      "Epoch 5/1000\n",
      "1/1 [==============================] - 0s 44ms/step - loss: 0.6956 - accuracy: 0.5037 - val_loss: 0.6967 - val_accuracy: 0.5484\n",
      "Epoch 6/1000\n",
      "1/1 [==============================] - 0s 53ms/step - loss: 0.6799 - accuracy: 0.5551 - val_loss: 0.7021 - val_accuracy: 0.5161\n",
      "Epoch 7/1000\n",
      "1/1 [==============================] - 0s 55ms/step - loss: 0.6848 - accuracy: 0.5551 - val_loss: 0.7074 - val_accuracy: 0.4839\n",
      "Epoch 8/1000\n",
      "1/1 [==============================] - 0s 98ms/step - loss: 0.6545 - accuracy: 0.6029 - val_loss: 0.7123 - val_accuracy: 0.4839\n",
      "Epoch 9/1000\n",
      "1/1 [==============================] - 0s 53ms/step - loss: 0.6759 - accuracy: 0.5404 - val_loss: 0.7170 - val_accuracy: 0.4839\n",
      "Epoch 10/1000\n",
      "1/1 [==============================] - 0s 52ms/step - loss: 0.6477 - accuracy: 0.6581 - val_loss: 0.7215 - val_accuracy: 0.4839\n",
      "Epoch 11/1000\n",
      "1/1 [==============================] - 0s 49ms/step - loss: 0.6677 - accuracy: 0.5735 - val_loss: 0.7258 - val_accuracy: 0.4516\n",
      "Epoch 12/1000\n",
      "1/1 [==============================] - 0s 52ms/step - loss: 0.6821 - accuracy: 0.5699 - val_loss: 0.7300 - val_accuracy: 0.4194\n",
      "Epoch 13/1000\n",
      "1/1 [==============================] - 0s 47ms/step - loss: 0.6609 - accuracy: 0.5882 - val_loss: 0.7340 - val_accuracy: 0.4194\n",
      "Epoch 14/1000\n",
      "1/1 [==============================] - 0s 49ms/step - loss: 0.6487 - accuracy: 0.6287 - val_loss: 0.7377 - val_accuracy: 0.4194\n",
      "Epoch 15/1000\n",
      "1/1 [==============================] - 0s 52ms/step - loss: 0.6504 - accuracy: 0.6544 - val_loss: 0.7412 - val_accuracy: 0.4194\n",
      "Epoch 16/1000\n",
      "1/1 [==============================] - 0s 52ms/step - loss: 0.6352 - accuracy: 0.6912 - val_loss: 0.7444 - val_accuracy: 0.4194\n",
      "Epoch 17/1000\n",
      "1/1 [==============================] - 0s 50ms/step - loss: 0.6447 - accuracy: 0.6213 - val_loss: 0.7472 - val_accuracy: 0.4194\n",
      "Epoch 18/1000\n",
      "1/1 [==============================] - 0s 47ms/step - loss: 0.6343 - accuracy: 0.6507 - val_loss: 0.7501 - val_accuracy: 0.3871\n",
      "Epoch 19/1000\n",
      "1/1 [==============================] - 0s 42ms/step - loss: 0.6423 - accuracy: 0.6360 - val_loss: 0.7527 - val_accuracy: 0.3871\n",
      "Epoch 20/1000\n",
      "1/1 [==============================] - 0s 46ms/step - loss: 0.6089 - accuracy: 0.6801 - val_loss: 0.7551 - val_accuracy: 0.3871\n",
      "Epoch 21/1000\n",
      "1/1 [==============================] - 0s 45ms/step - loss: 0.6276 - accuracy: 0.6581 - val_loss: 0.7574 - val_accuracy: 0.3871\n",
      "Epoch 22/1000\n",
      "1/1 [==============================] - 0s 45ms/step - loss: 0.6242 - accuracy: 0.6728 - val_loss: 0.7595 - val_accuracy: 0.3871\n",
      "Epoch 23/1000\n",
      "1/1 [==============================] - 0s 52ms/step - loss: 0.6078 - accuracy: 0.6985 - val_loss: 0.7615 - val_accuracy: 0.3871\n",
      "Epoch 24/1000\n",
      "1/1 [==============================] - 0s 52ms/step - loss: 0.6024 - accuracy: 0.7279 - val_loss: 0.7635 - val_accuracy: 0.3871\n",
      "Epoch 25/1000\n",
      "1/1 [==============================] - 0s 47ms/step - loss: 0.6192 - accuracy: 0.6618 - val_loss: 0.7651 - val_accuracy: 0.3871\n",
      "Epoch 26/1000\n",
      "1/1 [==============================] - 0s 51ms/step - loss: 0.6029 - accuracy: 0.7096 - val_loss: 0.7666 - val_accuracy: 0.3871\n",
      "Epoch 27/1000\n",
      "1/1 [==============================] - 0s 49ms/step - loss: 0.5957 - accuracy: 0.7243 - val_loss: 0.7680 - val_accuracy: 0.3871\n",
      "Epoch 28/1000\n",
      "1/1 [==============================] - 0s 47ms/step - loss: 0.6047 - accuracy: 0.7022 - val_loss: 0.7691 - val_accuracy: 0.3871\n",
      "Epoch 29/1000\n",
      "1/1 [==============================] - 0s 51ms/step - loss: 0.5952 - accuracy: 0.7059 - val_loss: 0.7701 - val_accuracy: 0.3871\n",
      "Epoch 30/1000\n",
      "1/1 [==============================] - 0s 49ms/step - loss: 0.5991 - accuracy: 0.6838 - val_loss: 0.7708 - val_accuracy: 0.3871\n",
      "Epoch 31/1000\n",
      "1/1 [==============================] - 0s 45ms/step - loss: 0.5948 - accuracy: 0.7132 - val_loss: 0.7714 - val_accuracy: 0.3871\n",
      "Epoch 32/1000\n",
      "1/1 [==============================] - 0s 43ms/step - loss: 0.6072 - accuracy: 0.6838 - val_loss: 0.7718 - val_accuracy: 0.4194\n",
      "Epoch 33/1000\n",
      "1/1 [==============================] - 0s 45ms/step - loss: 0.5926 - accuracy: 0.7022 - val_loss: 0.7719 - val_accuracy: 0.4194\n",
      "Epoch 34/1000\n",
      "1/1 [==============================] - 0s 51ms/step - loss: 0.5656 - accuracy: 0.7647 - val_loss: 0.7719 - val_accuracy: 0.4516\n",
      "Epoch 35/1000\n",
      "1/1 [==============================] - 0s 50ms/step - loss: 0.5576 - accuracy: 0.7757 - val_loss: 0.7719 - val_accuracy: 0.4516\n",
      "Epoch 36/1000\n",
      "1/1 [==============================] - 0s 53ms/step - loss: 0.5974 - accuracy: 0.7022 - val_loss: 0.7717 - val_accuracy: 0.4516\n",
      "Epoch 37/1000\n",
      "1/1 [==============================] - 0s 51ms/step - loss: 0.5626 - accuracy: 0.7794 - val_loss: 0.7715 - val_accuracy: 0.4516\n",
      "Epoch 38/1000\n",
      "1/1 [==============================] - 0s 49ms/step - loss: 0.5675 - accuracy: 0.7279 - val_loss: 0.7713 - val_accuracy: 0.4516\n",
      "Epoch 39/1000\n",
      "1/1 [==============================] - 0s 45ms/step - loss: 0.5640 - accuracy: 0.7721 - val_loss: 0.7710 - val_accuracy: 0.4516\n",
      "Epoch 40/1000\n",
      "1/1 [==============================] - 0s 44ms/step - loss: 0.5731 - accuracy: 0.7316 - val_loss: 0.7706 - val_accuracy: 0.4516\n",
      "Epoch 41/1000\n",
      "1/1 [==============================] - 0s 51ms/step - loss: 0.5465 - accuracy: 0.7426 - val_loss: 0.7701 - val_accuracy: 0.4516\n",
      "Epoch 42/1000\n",
      "1/1 [==============================] - 0s 49ms/step - loss: 0.5643 - accuracy: 0.7059 - val_loss: 0.7695 - val_accuracy: 0.4516\n",
      "Epoch 43/1000\n",
      "1/1 [==============================] - 0s 52ms/step - loss: 0.5556 - accuracy: 0.7500 - val_loss: 0.7687 - val_accuracy: 0.4516\n",
      "Epoch 44/1000\n",
      "1/1 [==============================] - 0s 48ms/step - loss: 0.5431 - accuracy: 0.7721 - val_loss: 0.7682 - val_accuracy: 0.4839\n",
      "Epoch 45/1000\n",
      "1/1 [==============================] - 0s 48ms/step - loss: 0.5691 - accuracy: 0.7132 - val_loss: 0.7676 - val_accuracy: 0.4839\n",
      "Epoch 46/1000\n",
      "1/1 [==============================] - 0s 50ms/step - loss: 0.5418 - accuracy: 0.7426 - val_loss: 0.7666 - val_accuracy: 0.4839\n",
      "Epoch 47/1000\n",
      "1/1 [==============================] - 0s 47ms/step - loss: 0.5278 - accuracy: 0.7831 - val_loss: 0.7657 - val_accuracy: 0.4839\n",
      "Epoch 48/1000\n",
      "1/1 [==============================] - 0s 43ms/step - loss: 0.5269 - accuracy: 0.7794 - val_loss: 0.7647 - val_accuracy: 0.4839\n",
      "Epoch 49/1000\n",
      "1/1 [==============================] - 0s 45ms/step - loss: 0.5497 - accuracy: 0.7721 - val_loss: 0.7636 - val_accuracy: 0.4839\n",
      "Epoch 50/1000\n",
      "1/1 [==============================] - 0s 43ms/step - loss: 0.5312 - accuracy: 0.7647 - val_loss: 0.7622 - val_accuracy: 0.5161\n",
      "Epoch 51/1000\n",
      "1/1 [==============================] - 0s 43ms/step - loss: 0.5098 - accuracy: 0.7978 - val_loss: 0.7610 - val_accuracy: 0.5161\n",
      "Epoch 52/1000\n",
      "1/1 [==============================] - 0s 48ms/step - loss: 0.5309 - accuracy: 0.7463 - val_loss: 0.7596 - val_accuracy: 0.5161\n",
      "Epoch 53/1000\n",
      "1/1 [==============================] - 0s 44ms/step - loss: 0.5132 - accuracy: 0.7647 - val_loss: 0.7582 - val_accuracy: 0.5161\n",
      "Epoch 54/1000\n",
      "1/1 [==============================] - 0s 45ms/step - loss: 0.5228 - accuracy: 0.7721 - val_loss: 0.7569 - val_accuracy: 0.5484\n",
      "Epoch 55/1000\n",
      "1/1 [==============================] - 0s 43ms/step - loss: 0.4992 - accuracy: 0.7941 - val_loss: 0.7557 - val_accuracy: 0.5806\n",
      "Epoch 56/1000\n",
      "1/1 [==============================] - 0s 45ms/step - loss: 0.5053 - accuracy: 0.7684 - val_loss: 0.7547 - val_accuracy: 0.5806\n",
      "Epoch 57/1000\n",
      "1/1 [==============================] - 0s 44ms/step - loss: 0.4993 - accuracy: 0.7978 - val_loss: 0.7538 - val_accuracy: 0.5806\n",
      "Epoch 58/1000\n",
      "1/1 [==============================] - 0s 47ms/step - loss: 0.5035 - accuracy: 0.7684 - val_loss: 0.7529 - val_accuracy: 0.5806\n",
      "Epoch 59/1000\n",
      "1/1 [==============================] - 0s 46ms/step - loss: 0.5060 - accuracy: 0.7831 - val_loss: 0.7522 - val_accuracy: 0.5806\n",
      "Epoch 60/1000\n",
      "1/1 [==============================] - 0s 46ms/step - loss: 0.5240 - accuracy: 0.7353 - val_loss: 0.7512 - val_accuracy: 0.5806\n",
      "Epoch 61/1000\n",
      "1/1 [==============================] - 0s 50ms/step - loss: 0.4800 - accuracy: 0.7941 - val_loss: 0.7505 - val_accuracy: 0.5806\n",
      "Epoch 62/1000\n",
      "1/1 [==============================] - 0s 47ms/step - loss: 0.4983 - accuracy: 0.7904 - val_loss: 0.7497 - val_accuracy: 0.5806\n",
      "Epoch 63/1000\n",
      "1/1 [==============================] - 0s 56ms/step - loss: 0.4887 - accuracy: 0.8015 - val_loss: 0.7487 - val_accuracy: 0.5806\n",
      "Epoch 64/1000\n",
      "1/1 [==============================] - 0s 57ms/step - loss: 0.4873 - accuracy: 0.7978 - val_loss: 0.7478 - val_accuracy: 0.5806\n",
      "Epoch 65/1000\n",
      "1/1 [==============================] - 0s 47ms/step - loss: 0.4867 - accuracy: 0.7978 - val_loss: 0.7467 - val_accuracy: 0.5806\n",
      "Epoch 66/1000\n",
      "1/1 [==============================] - 0s 48ms/step - loss: 0.4813 - accuracy: 0.8088 - val_loss: 0.7453 - val_accuracy: 0.5806\n",
      "Epoch 67/1000\n",
      "1/1 [==============================] - 0s 45ms/step - loss: 0.4927 - accuracy: 0.8088 - val_loss: 0.7440 - val_accuracy: 0.5806\n",
      "Epoch 68/1000\n",
      "1/1 [==============================] - 0s 43ms/step - loss: 0.4596 - accuracy: 0.8125 - val_loss: 0.7430 - val_accuracy: 0.5806\n",
      "Epoch 69/1000\n",
      "1/1 [==============================] - 0s 50ms/step - loss: 0.4654 - accuracy: 0.8125 - val_loss: 0.7415 - val_accuracy: 0.5806\n",
      "Epoch 70/1000\n",
      "1/1 [==============================] - 0s 46ms/step - loss: 0.4602 - accuracy: 0.8235 - val_loss: 0.7402 - val_accuracy: 0.5806\n",
      "Epoch 71/1000\n",
      "1/1 [==============================] - 0s 47ms/step - loss: 0.4515 - accuracy: 0.8088 - val_loss: 0.7390 - val_accuracy: 0.5806\n",
      "Epoch 72/1000\n",
      "1/1 [==============================] - 0s 53ms/step - loss: 0.4428 - accuracy: 0.8088 - val_loss: 0.7380 - val_accuracy: 0.6129\n",
      "Epoch 73/1000\n",
      "1/1 [==============================] - 0s 52ms/step - loss: 0.4631 - accuracy: 0.8309 - val_loss: 0.7372 - val_accuracy: 0.6129\n",
      "Epoch 74/1000\n",
      "1/1 [==============================] - 0s 56ms/step - loss: 0.4591 - accuracy: 0.8235 - val_loss: 0.7365 - val_accuracy: 0.6129\n",
      "Epoch 75/1000\n",
      "1/1 [==============================] - 0s 52ms/step - loss: 0.4530 - accuracy: 0.8419 - val_loss: 0.7362 - val_accuracy: 0.6129\n",
      "Epoch 76/1000\n",
      "1/1 [==============================] - 0s 54ms/step - loss: 0.4239 - accuracy: 0.8346 - val_loss: 0.7356 - val_accuracy: 0.6129\n",
      "Epoch 77/1000\n",
      "1/1 [==============================] - 0s 61ms/step - loss: 0.4512 - accuracy: 0.7978 - val_loss: 0.7351 - val_accuracy: 0.6129\n",
      "Epoch 78/1000\n",
      "1/1 [==============================] - 0s 53ms/step - loss: 0.4520 - accuracy: 0.8051 - val_loss: 0.7344 - val_accuracy: 0.6129\n",
      "Epoch 79/1000\n",
      "1/1 [==============================] - 0s 47ms/step - loss: 0.4351 - accuracy: 0.8088 - val_loss: 0.7337 - val_accuracy: 0.6129\n",
      "Epoch 80/1000\n",
      "1/1 [==============================] - 0s 51ms/step - loss: 0.4222 - accuracy: 0.8235 - val_loss: 0.7333 - val_accuracy: 0.6129\n",
      "Epoch 81/1000\n",
      "1/1 [==============================] - 0s 47ms/step - loss: 0.4384 - accuracy: 0.8382 - val_loss: 0.7327 - val_accuracy: 0.6129\n",
      "Epoch 82/1000\n",
      "1/1 [==============================] - 0s 44ms/step - loss: 0.4302 - accuracy: 0.8309 - val_loss: 0.7322 - val_accuracy: 0.6129\n",
      "Epoch 83/1000\n",
      "1/1 [==============================] - 0s 49ms/step - loss: 0.4177 - accuracy: 0.8125 - val_loss: 0.7313 - val_accuracy: 0.6129\n",
      "Epoch 84/1000\n",
      "1/1 [==============================] - 0s 49ms/step - loss: 0.4212 - accuracy: 0.8199 - val_loss: 0.7303 - val_accuracy: 0.6129\n",
      "Epoch 85/1000\n",
      "1/1 [==============================] - 0s 44ms/step - loss: 0.4025 - accuracy: 0.8493 - val_loss: 0.7298 - val_accuracy: 0.6129\n",
      "Epoch 86/1000\n",
      "1/1 [==============================] - 0s 51ms/step - loss: 0.3899 - accuracy: 0.8603 - val_loss: 0.7294 - val_accuracy: 0.6129\n",
      "Epoch 87/1000\n",
      "1/1 [==============================] - 0s 46ms/step - loss: 0.4149 - accuracy: 0.8125 - val_loss: 0.7290 - val_accuracy: 0.6129\n",
      "Epoch 88/1000\n",
      "1/1 [==============================] - 0s 53ms/step - loss: 0.3928 - accuracy: 0.8456 - val_loss: 0.7287 - val_accuracy: 0.6129\n",
      "Epoch 89/1000\n",
      "1/1 [==============================] - 0s 47ms/step - loss: 0.4009 - accuracy: 0.8346 - val_loss: 0.7285 - val_accuracy: 0.6129\n",
      "Epoch 90/1000\n",
      "1/1 [==============================] - 0s 64ms/step - loss: 0.3998 - accuracy: 0.8309 - val_loss: 0.7282 - val_accuracy: 0.6129\n",
      "Epoch 91/1000\n",
      "1/1 [==============================] - 0s 43ms/step - loss: 0.3915 - accuracy: 0.8566 - val_loss: 0.7283 - val_accuracy: 0.6129\n",
      "Epoch 92/1000\n",
      "1/1 [==============================] - 0s 42ms/step - loss: 0.4036 - accuracy: 0.8456 - val_loss: 0.7280 - val_accuracy: 0.6129\n",
      "Epoch 93/1000\n",
      "1/1 [==============================] - 0s 44ms/step - loss: 0.3959 - accuracy: 0.8493 - val_loss: 0.7277 - val_accuracy: 0.6129\n",
      "Epoch 94/1000\n",
      "1/1 [==============================] - 0s 44ms/step - loss: 0.4094 - accuracy: 0.8456 - val_loss: 0.7275 - val_accuracy: 0.6129\n",
      "Epoch 95/1000\n",
      "1/1 [==============================] - 0s 47ms/step - loss: 0.3723 - accuracy: 0.8676 - val_loss: 0.7272 - val_accuracy: 0.6129\n",
      "Epoch 96/1000\n",
      "1/1 [==============================] - 0s 45ms/step - loss: 0.3790 - accuracy: 0.8750 - val_loss: 0.7275 - val_accuracy: 0.6129\n",
      "Epoch 97/1000\n",
      "1/1 [==============================] - 0s 53ms/step - loss: 0.4030 - accuracy: 0.8493 - val_loss: 0.7276 - val_accuracy: 0.6129\n",
      "Epoch 98/1000\n",
      "1/1 [==============================] - 0s 50ms/step - loss: 0.4099 - accuracy: 0.8419 - val_loss: 0.7281 - val_accuracy: 0.6129\n",
      "Epoch 99/1000\n",
      "1/1 [==============================] - 0s 47ms/step - loss: 0.3637 - accuracy: 0.8529 - val_loss: 0.7284 - val_accuracy: 0.6129\n",
      "Epoch 100/1000\n",
      "1/1 [==============================] - 0s 48ms/step - loss: 0.3926 - accuracy: 0.8272 - val_loss: 0.7288 - val_accuracy: 0.6129\n",
      "Epoch 101/1000\n",
      "1/1 [==============================] - 0s 47ms/step - loss: 0.3898 - accuracy: 0.8346 - val_loss: 0.7293 - val_accuracy: 0.6129\n",
      "Epoch 102/1000\n",
      "1/1 [==============================] - 0s 47ms/step - loss: 0.4087 - accuracy: 0.8272 - val_loss: 0.7297 - val_accuracy: 0.6129\n",
      "Epoch 103/1000\n",
      "1/1 [==============================] - 0s 50ms/step - loss: 0.3681 - accuracy: 0.8456 - val_loss: 0.7302 - val_accuracy: 0.6129\n",
      "Epoch 104/1000\n",
      "1/1 [==============================] - 0s 50ms/step - loss: 0.3552 - accuracy: 0.8493 - val_loss: 0.7308 - val_accuracy: 0.6129\n",
      "Epoch 105/1000\n",
      "1/1 [==============================] - 0s 51ms/step - loss: 0.3935 - accuracy: 0.8566 - val_loss: 0.7313 - val_accuracy: 0.6129\n",
      "Epoch 106/1000\n",
      "1/1 [==============================] - 0s 46ms/step - loss: 0.3851 - accuracy: 0.8456 - val_loss: 0.7314 - val_accuracy: 0.6129\n",
      "Epoch 107/1000\n",
      "1/1 [==============================] - 0s 45ms/step - loss: 0.3759 - accuracy: 0.8382 - val_loss: 0.7313 - val_accuracy: 0.6129\n",
      "Epoch 108/1000\n",
      "1/1 [==============================] - 0s 49ms/step - loss: 0.3879 - accuracy: 0.8346 - val_loss: 0.7311 - val_accuracy: 0.6129\n",
      "Epoch 109/1000\n",
      "1/1 [==============================] - 0s 45ms/step - loss: 0.3695 - accuracy: 0.8419 - val_loss: 0.7308 - val_accuracy: 0.6129\n",
      "Epoch 110/1000\n",
      "1/1 [==============================] - 0s 47ms/step - loss: 0.3708 - accuracy: 0.8529 - val_loss: 0.7308 - val_accuracy: 0.6129\n",
      "Epoch 111/1000\n",
      "1/1 [==============================] - 0s 55ms/step - loss: 0.3840 - accuracy: 0.8309 - val_loss: 0.7306 - val_accuracy: 0.6129\n",
      "Epoch 112/1000\n",
      "1/1 [==============================] - 0s 47ms/step - loss: 0.3674 - accuracy: 0.8456 - val_loss: 0.7308 - val_accuracy: 0.6129\n",
      "Epoch 113/1000\n",
      "1/1 [==============================] - 0s 45ms/step - loss: 0.3756 - accuracy: 0.8346 - val_loss: 0.7320 - val_accuracy: 0.6129\n",
      "Epoch 114/1000\n",
      "1/1 [==============================] - 0s 50ms/step - loss: 0.3606 - accuracy: 0.8235 - val_loss: 0.7328 - val_accuracy: 0.6129\n",
      "Epoch 115/1000\n",
      "1/1 [==============================] - 0s 53ms/step - loss: 0.3662 - accuracy: 0.8713 - val_loss: 0.7341 - val_accuracy: 0.6129\n",
      "Epoch 116/1000\n",
      "1/1 [==============================] - 0s 51ms/step - loss: 0.3518 - accuracy: 0.8603 - val_loss: 0.7352 - val_accuracy: 0.6129\n",
      "Epoch 117/1000\n",
      "1/1 [==============================] - 0s 51ms/step - loss: 0.3395 - accuracy: 0.8750 - val_loss: 0.7359 - val_accuracy: 0.6129\n",
      "Epoch 118/1000\n",
      "1/1 [==============================] - 0s 43ms/step - loss: 0.3533 - accuracy: 0.8529 - val_loss: 0.7363 - val_accuracy: 0.6129\n",
      "Epoch 119/1000\n",
      "1/1 [==============================] - 0s 45ms/step - loss: 0.3598 - accuracy: 0.8346 - val_loss: 0.7368 - val_accuracy: 0.6129\n",
      "Epoch 120/1000\n",
      "1/1 [==============================] - 0s 45ms/step - loss: 0.3594 - accuracy: 0.8456 - val_loss: 0.7380 - val_accuracy: 0.6129\n",
      "Epoch 121/1000\n",
      "1/1 [==============================] - 0s 45ms/step - loss: 0.3437 - accuracy: 0.8676 - val_loss: 0.7391 - val_accuracy: 0.6129\n",
      "Epoch 122/1000\n",
      "1/1 [==============================] - 0s 47ms/step - loss: 0.3592 - accuracy: 0.8566 - val_loss: 0.7408 - val_accuracy: 0.6129\n",
      "Epoch 123/1000\n",
      "1/1 [==============================] - 0s 50ms/step - loss: 0.3754 - accuracy: 0.8272 - val_loss: 0.7425 - val_accuracy: 0.6129\n",
      "Epoch 124/1000\n",
      "1/1 [==============================] - 0s 48ms/step - loss: 0.3526 - accuracy: 0.8456 - val_loss: 0.7452 - val_accuracy: 0.6129\n",
      "Epoch 125/1000\n",
      "1/1 [==============================] - 0s 46ms/step - loss: 0.3495 - accuracy: 0.8456 - val_loss: 0.7470 - val_accuracy: 0.6129\n",
      "Epoch 126/1000\n",
      "1/1 [==============================] - 0s 43ms/step - loss: 0.3424 - accuracy: 0.8603 - val_loss: 0.7489 - val_accuracy: 0.6129\n",
      "Epoch 127/1000\n",
      "1/1 [==============================] - 0s 48ms/step - loss: 0.3570 - accuracy: 0.8824 - val_loss: 0.7498 - val_accuracy: 0.6129\n",
      "Epoch 128/1000\n",
      "1/1 [==============================] - 0s 52ms/step - loss: 0.3299 - accuracy: 0.8713 - val_loss: 0.7509 - val_accuracy: 0.6129\n",
      "Epoch 129/1000\n",
      "1/1 [==============================] - 0s 49ms/step - loss: 0.3372 - accuracy: 0.8750 - val_loss: 0.7516 - val_accuracy: 0.6129\n",
      "Epoch 130/1000\n",
      "1/1 [==============================] - 0s 47ms/step - loss: 0.3636 - accuracy: 0.8603 - val_loss: 0.7522 - val_accuracy: 0.6129\n",
      "Epoch 131/1000\n",
      "1/1 [==============================] - 0s 50ms/step - loss: 0.3355 - accuracy: 0.8603 - val_loss: 0.7533 - val_accuracy: 0.6129\n",
      "Epoch 132/1000\n",
      "1/1 [==============================] - 0s 47ms/step - loss: 0.3429 - accuracy: 0.8603 - val_loss: 0.7549 - val_accuracy: 0.6129\n",
      "Epoch 133/1000\n",
      "1/1 [==============================] - 0s 47ms/step - loss: 0.3462 - accuracy: 0.8750 - val_loss: 0.7569 - val_accuracy: 0.6129\n",
      "Epoch 134/1000\n",
      "1/1 [==============================] - 0s 44ms/step - loss: 0.3402 - accuracy: 0.8676 - val_loss: 0.7583 - val_accuracy: 0.6129\n",
      "Epoch 135/1000\n",
      "1/1 [==============================] - 0s 47ms/step - loss: 0.3493 - accuracy: 0.8419 - val_loss: 0.7601 - val_accuracy: 0.6129\n",
      "Epoch 136/1000\n",
      "1/1 [==============================] - 0s 44ms/step - loss: 0.3276 - accuracy: 0.8640 - val_loss: 0.7622 - val_accuracy: 0.6129\n",
      "Epoch 137/1000\n",
      "1/1 [==============================] - 0s 46ms/step - loss: 0.3410 - accuracy: 0.8640 - val_loss: 0.7640 - val_accuracy: 0.6129\n",
      "Epoch 138/1000\n",
      "1/1 [==============================] - 0s 48ms/step - loss: 0.3484 - accuracy: 0.8529 - val_loss: 0.7652 - val_accuracy: 0.6129\n",
      "Epoch 139/1000\n",
      "1/1 [==============================] - 0s 48ms/step - loss: 0.3396 - accuracy: 0.8640 - val_loss: 0.7658 - val_accuracy: 0.6129\n",
      "Epoch 140/1000\n",
      "1/1 [==============================] - 0s 50ms/step - loss: 0.3437 - accuracy: 0.8603 - val_loss: 0.7667 - val_accuracy: 0.6129\n",
      "Epoch 141/1000\n",
      "1/1 [==============================] - 0s 54ms/step - loss: 0.3023 - accuracy: 0.8787 - val_loss: 0.7669 - val_accuracy: 0.6129\n",
      "Epoch 142/1000\n",
      "1/1 [==============================] - 0s 77ms/step - loss: 0.3182 - accuracy: 0.8787 - val_loss: 0.7663 - val_accuracy: 0.5806\n",
      "Epoch 143/1000\n",
      "1/1 [==============================] - 0s 55ms/step - loss: 0.3274 - accuracy: 0.8934 - val_loss: 0.7658 - val_accuracy: 0.5806\n",
      "Epoch 144/1000\n",
      "1/1 [==============================] - 0s 49ms/step - loss: 0.3457 - accuracy: 0.8566 - val_loss: 0.7646 - val_accuracy: 0.5806\n",
      "Epoch 145/1000\n",
      "1/1 [==============================] - 0s 48ms/step - loss: 0.3084 - accuracy: 0.8713 - val_loss: 0.7638 - val_accuracy: 0.5806\n",
      "Epoch 146/1000\n",
      "1/1 [==============================] - 0s 48ms/step - loss: 0.3158 - accuracy: 0.8676 - val_loss: 0.7626 - val_accuracy: 0.6129\n",
      "Epoch 147/1000\n",
      "1/1 [==============================] - 0s 50ms/step - loss: 0.3215 - accuracy: 0.8713 - val_loss: 0.7605 - val_accuracy: 0.6129\n",
      "Epoch 148/1000\n",
      "1/1 [==============================] - 0s 46ms/step - loss: 0.3308 - accuracy: 0.8676 - val_loss: 0.7589 - val_accuracy: 0.6452\n",
      "Epoch 149/1000\n",
      "1/1 [==============================] - 0s 47ms/step - loss: 0.3409 - accuracy: 0.8860 - val_loss: 0.7583 - val_accuracy: 0.6129\n",
      "Epoch 150/1000\n",
      "1/1 [==============================] - 0s 45ms/step - loss: 0.3256 - accuracy: 0.8603 - val_loss: 0.7578 - val_accuracy: 0.6129\n",
      "Epoch 151/1000\n",
      "1/1 [==============================] - 0s 45ms/step - loss: 0.3229 - accuracy: 0.8897 - val_loss: 0.7573 - val_accuracy: 0.6129\n",
      "Epoch 152/1000\n",
      "1/1 [==============================] - 0s 52ms/step - loss: 0.3151 - accuracy: 0.8640 - val_loss: 0.7565 - val_accuracy: 0.6129\n",
      "Epoch 153/1000\n",
      "1/1 [==============================] - 0s 50ms/step - loss: 0.3155 - accuracy: 0.9118 - val_loss: 0.7561 - val_accuracy: 0.6129\n",
      "Epoch 154/1000\n",
      "1/1 [==============================] - 0s 56ms/step - loss: 0.3346 - accuracy: 0.8787 - val_loss: 0.7564 - val_accuracy: 0.6129\n",
      "Epoch 155/1000\n",
      "1/1 [==============================] - 0s 48ms/step - loss: 0.3131 - accuracy: 0.8897 - val_loss: 0.7576 - val_accuracy: 0.6129\n",
      "Epoch 156/1000\n",
      "1/1 [==============================] - 0s 45ms/step - loss: 0.3210 - accuracy: 0.8750 - val_loss: 0.7589 - val_accuracy: 0.6129\n",
      "Epoch 157/1000\n",
      "1/1 [==============================] - 0s 48ms/step - loss: 0.3005 - accuracy: 0.8713 - val_loss: 0.7611 - val_accuracy: 0.6129\n",
      "Epoch 158/1000\n",
      "1/1 [==============================] - 0s 47ms/step - loss: 0.2885 - accuracy: 0.8934 - val_loss: 0.7637 - val_accuracy: 0.6129\n",
      "Epoch 159/1000\n",
      "1/1 [==============================] - 0s 47ms/step - loss: 0.3278 - accuracy: 0.8566 - val_loss: 0.7668 - val_accuracy: 0.6129\n",
      "Epoch 160/1000\n",
      "1/1 [==============================] - 0s 45ms/step - loss: 0.3043 - accuracy: 0.8824 - val_loss: 0.7695 - val_accuracy: 0.6452\n",
      "Epoch 161/1000\n",
      "1/1 [==============================] - 0s 47ms/step - loss: 0.3448 - accuracy: 0.8676 - val_loss: 0.7720 - val_accuracy: 0.6452\n",
      "Epoch 162/1000\n",
      "1/1 [==============================] - 0s 49ms/step - loss: 0.3396 - accuracy: 0.8676 - val_loss: 0.7746 - val_accuracy: 0.6452\n",
      "Epoch 163/1000\n",
      "1/1 [==============================] - 0s 48ms/step - loss: 0.3257 - accuracy: 0.8824 - val_loss: 0.7772 - val_accuracy: 0.6452\n",
      "Epoch 164/1000\n",
      "1/1 [==============================] - 0s 44ms/step - loss: 0.3132 - accuracy: 0.8640 - val_loss: 0.7797 - val_accuracy: 0.6452\n",
      "Epoch 165/1000\n",
      "1/1 [==============================] - 0s 44ms/step - loss: 0.3046 - accuracy: 0.8750 - val_loss: 0.7820 - val_accuracy: 0.6452\n",
      "Epoch 166/1000\n",
      "1/1 [==============================] - 0s 47ms/step - loss: 0.3007 - accuracy: 0.8860 - val_loss: 0.7831 - val_accuracy: 0.6452\n",
      "Epoch 167/1000\n",
      "1/1 [==============================] - 0s 51ms/step - loss: 0.3176 - accuracy: 0.8750 - val_loss: 0.7842 - val_accuracy: 0.6452\n",
      "Epoch 168/1000\n",
      "1/1 [==============================] - 0s 50ms/step - loss: 0.3098 - accuracy: 0.8787 - val_loss: 0.7858 - val_accuracy: 0.6452\n",
      "Epoch 169/1000\n",
      "1/1 [==============================] - 0s 45ms/step - loss: 0.2959 - accuracy: 0.8897 - val_loss: 0.7869 - val_accuracy: 0.6452\n",
      "Epoch 170/1000\n",
      "1/1 [==============================] - 0s 43ms/step - loss: 0.3015 - accuracy: 0.8860 - val_loss: 0.7879 - val_accuracy: 0.6452\n",
      "Epoch 171/1000\n",
      "1/1 [==============================] - 0s 48ms/step - loss: 0.2943 - accuracy: 0.8824 - val_loss: 0.7883 - val_accuracy: 0.6452\n",
      "Epoch 172/1000\n",
      "1/1 [==============================] - 0s 51ms/step - loss: 0.2786 - accuracy: 0.9081 - val_loss: 0.7885 - val_accuracy: 0.6452\n",
      "Epoch 173/1000\n",
      "1/1 [==============================] - 0s 54ms/step - loss: 0.3129 - accuracy: 0.8787 - val_loss: 0.7884 - val_accuracy: 0.6452\n",
      "Epoch 174/1000\n",
      "1/1 [==============================] - 0s 69ms/step - loss: 0.3057 - accuracy: 0.8676 - val_loss: 0.7886 - val_accuracy: 0.6452\n",
      "Epoch 175/1000\n",
      "1/1 [==============================] - 0s 44ms/step - loss: 0.3322 - accuracy: 0.8824 - val_loss: 0.7891 - val_accuracy: 0.6452\n",
      "Epoch 176/1000\n",
      "1/1 [==============================] - 0s 43ms/step - loss: 0.3018 - accuracy: 0.8860 - val_loss: 0.7890 - val_accuracy: 0.6452\n",
      "Epoch 177/1000\n",
      "1/1 [==============================] - 0s 47ms/step - loss: 0.2885 - accuracy: 0.8824 - val_loss: 0.7886 - val_accuracy: 0.6452\n",
      "Epoch 178/1000\n",
      "1/1 [==============================] - 0s 45ms/step - loss: 0.3259 - accuracy: 0.8787 - val_loss: 0.7876 - val_accuracy: 0.6452\n",
      "Epoch 179/1000\n",
      "1/1 [==============================] - 0s 44ms/step - loss: 0.3133 - accuracy: 0.8787 - val_loss: 0.7862 - val_accuracy: 0.6452\n",
      "Epoch 180/1000\n",
      "1/1 [==============================] - 0s 46ms/step - loss: 0.2893 - accuracy: 0.8897 - val_loss: 0.7841 - val_accuracy: 0.6452\n",
      "Epoch 181/1000\n",
      "1/1 [==============================] - 0s 45ms/step - loss: 0.2894 - accuracy: 0.8824 - val_loss: 0.7816 - val_accuracy: 0.6452\n",
      "Epoch 182/1000\n",
      "1/1 [==============================] - 0s 45ms/step - loss: 0.2915 - accuracy: 0.8860 - val_loss: 0.7799 - val_accuracy: 0.6452\n",
      "Epoch 183/1000\n",
      "1/1 [==============================] - 0s 44ms/step - loss: 0.3028 - accuracy: 0.8824 - val_loss: 0.7784 - val_accuracy: 0.6452\n",
      "Epoch 184/1000\n",
      "1/1 [==============================] - 0s 47ms/step - loss: 0.2944 - accuracy: 0.8860 - val_loss: 0.7775 - val_accuracy: 0.6452\n",
      "Epoch 185/1000\n",
      "1/1 [==============================] - 0s 47ms/step - loss: 0.3081 - accuracy: 0.8603 - val_loss: 0.7779 - val_accuracy: 0.6452\n",
      "Epoch 186/1000\n",
      "1/1 [==============================] - 0s 46ms/step - loss: 0.2817 - accuracy: 0.8860 - val_loss: 0.7789 - val_accuracy: 0.6452\n",
      "Epoch 187/1000\n",
      "1/1 [==============================] - 0s 52ms/step - loss: 0.3140 - accuracy: 0.8676 - val_loss: 0.7796 - val_accuracy: 0.6452\n",
      "Epoch 188/1000\n",
      "1/1 [==============================] - 0s 47ms/step - loss: 0.2844 - accuracy: 0.8713 - val_loss: 0.7800 - val_accuracy: 0.6452\n",
      "Epoch 189/1000\n",
      "1/1 [==============================] - 0s 47ms/step - loss: 0.2873 - accuracy: 0.8897 - val_loss: 0.7806 - val_accuracy: 0.6452\n",
      "Epoch 190/1000\n",
      "1/1 [==============================] - 0s 52ms/step - loss: 0.2974 - accuracy: 0.8860 - val_loss: 0.7818 - val_accuracy: 0.6452\n",
      "Epoch 191/1000\n",
      "1/1 [==============================] - 0s 56ms/step - loss: 0.2866 - accuracy: 0.8860 - val_loss: 0.7840 - val_accuracy: 0.6774\n",
      "Epoch 192/1000\n",
      "1/1 [==============================] - 0s 54ms/step - loss: 0.2897 - accuracy: 0.8860 - val_loss: 0.7862 - val_accuracy: 0.6774\n",
      "Epoch 193/1000\n",
      "1/1 [==============================] - 0s 50ms/step - loss: 0.2920 - accuracy: 0.8787 - val_loss: 0.7891 - val_accuracy: 0.6774\n",
      "Epoch 194/1000\n",
      "1/1 [==============================] - 0s 47ms/step - loss: 0.3009 - accuracy: 0.8897 - val_loss: 0.7919 - val_accuracy: 0.6774\n",
      "Epoch 195/1000\n",
      "1/1 [==============================] - 0s 47ms/step - loss: 0.2935 - accuracy: 0.9007 - val_loss: 0.7949 - val_accuracy: 0.6774\n",
      "Epoch 196/1000\n",
      "1/1 [==============================] - 0s 45ms/step - loss: 0.3038 - accuracy: 0.8750 - val_loss: 0.7968 - val_accuracy: 0.6774\n",
      "Epoch 197/1000\n",
      "1/1 [==============================] - 0s 51ms/step - loss: 0.2925 - accuracy: 0.8750 - val_loss: 0.7979 - val_accuracy: 0.6774\n",
      "Epoch 198/1000\n",
      "1/1 [==============================] - 0s 51ms/step - loss: 0.2893 - accuracy: 0.8897 - val_loss: 0.7996 - val_accuracy: 0.6774\n",
      "Epoch 199/1000\n",
      "1/1 [==============================] - 0s 45ms/step - loss: 0.2702 - accuracy: 0.8860 - val_loss: 0.8006 - val_accuracy: 0.6774\n",
      "Epoch 200/1000\n",
      "1/1 [==============================] - 0s 44ms/step - loss: 0.3092 - accuracy: 0.8897 - val_loss: 0.8019 - val_accuracy: 0.6774\n",
      "Epoch 201/1000\n",
      "1/1 [==============================] - 0s 49ms/step - loss: 0.2902 - accuracy: 0.8897 - val_loss: 0.8031 - val_accuracy: 0.6774\n",
      "Epoch 202/1000\n",
      "1/1 [==============================] - 0s 46ms/step - loss: 0.2970 - accuracy: 0.8676 - val_loss: 0.8040 - val_accuracy: 0.6774\n",
      "Epoch 203/1000\n",
      "1/1 [==============================] - 0s 45ms/step - loss: 0.2829 - accuracy: 0.9007 - val_loss: 0.8055 - val_accuracy: 0.6774\n",
      "Epoch 204/1000\n",
      "1/1 [==============================] - 0s 45ms/step - loss: 0.2842 - accuracy: 0.8971 - val_loss: 0.8059 - val_accuracy: 0.6774\n",
      "Epoch 205/1000\n",
      "1/1 [==============================] - 0s 47ms/step - loss: 0.2713 - accuracy: 0.8860 - val_loss: 0.8060 - val_accuracy: 0.6774\n",
      "Epoch 206/1000\n",
      "1/1 [==============================] - 0s 47ms/step - loss: 0.2819 - accuracy: 0.8897 - val_loss: 0.8060 - val_accuracy: 0.6452\n",
      "Epoch 207/1000\n",
      "1/1 [==============================] - 0s 45ms/step - loss: 0.3012 - accuracy: 0.9007 - val_loss: 0.8056 - val_accuracy: 0.6452\n",
      "Epoch 208/1000\n",
      "1/1 [==============================] - 0s 44ms/step - loss: 0.2924 - accuracy: 0.8860 - val_loss: 0.8051 - val_accuracy: 0.6452\n",
      "Epoch 209/1000\n",
      "1/1 [==============================] - 0s 44ms/step - loss: 0.2928 - accuracy: 0.9007 - val_loss: 0.8049 - val_accuracy: 0.6452\n",
      "Epoch 210/1000\n",
      "1/1 [==============================] - 0s 45ms/step - loss: 0.2761 - accuracy: 0.9007 - val_loss: 0.8048 - val_accuracy: 0.6452\n",
      "Epoch 211/1000\n",
      "1/1 [==============================] - 0s 45ms/step - loss: 0.2943 - accuracy: 0.8676 - val_loss: 0.8041 - val_accuracy: 0.6452\n",
      "Epoch 212/1000\n",
      "1/1 [==============================] - 0s 46ms/step - loss: 0.2764 - accuracy: 0.9044 - val_loss: 0.8034 - val_accuracy: 0.6452\n",
      "Epoch 213/1000\n",
      "1/1 [==============================] - 0s 46ms/step - loss: 0.2664 - accuracy: 0.9081 - val_loss: 0.8029 - val_accuracy: 0.6452\n",
      "Epoch 214/1000\n",
      "1/1 [==============================] - 0s 46ms/step - loss: 0.2728 - accuracy: 0.9007 - val_loss: 0.8021 - val_accuracy: 0.6452\n",
      "Epoch 215/1000\n",
      "1/1 [==============================] - 0s 47ms/step - loss: 0.2863 - accuracy: 0.8971 - val_loss: 0.8004 - val_accuracy: 0.6452\n",
      "Epoch 216/1000\n",
      "1/1 [==============================] - 0s 49ms/step - loss: 0.2882 - accuracy: 0.8934 - val_loss: 0.7989 - val_accuracy: 0.6452\n",
      "Epoch 217/1000\n",
      "1/1 [==============================] - 0s 48ms/step - loss: 0.2895 - accuracy: 0.8824 - val_loss: 0.7982 - val_accuracy: 0.6452\n",
      "Epoch 218/1000\n",
      "1/1 [==============================] - 0s 48ms/step - loss: 0.2991 - accuracy: 0.8934 - val_loss: 0.7975 - val_accuracy: 0.6452\n",
      "Epoch 219/1000\n",
      "1/1 [==============================] - 0s 52ms/step - loss: 0.2657 - accuracy: 0.8971 - val_loss: 0.7973 - val_accuracy: 0.6452\n",
      "Epoch 220/1000\n",
      "1/1 [==============================] - 0s 52ms/step - loss: 0.2703 - accuracy: 0.9007 - val_loss: 0.7973 - val_accuracy: 0.6452\n",
      "Epoch 221/1000\n",
      "1/1 [==============================] - 0s 76ms/step - loss: 0.2672 - accuracy: 0.8860 - val_loss: 0.7982 - val_accuracy: 0.6452\n",
      "Epoch 222/1000\n",
      "1/1 [==============================] - 0s 69ms/step - loss: 0.2707 - accuracy: 0.9081 - val_loss: 0.7992 - val_accuracy: 0.6452\n",
      "Epoch 223/1000\n",
      "1/1 [==============================] - 0s 49ms/step - loss: 0.2821 - accuracy: 0.8897 - val_loss: 0.8010 - val_accuracy: 0.6452\n",
      "Epoch 224/1000\n",
      "1/1 [==============================] - 0s 44ms/step - loss: 0.2703 - accuracy: 0.9154 - val_loss: 0.8026 - val_accuracy: 0.6452\n",
      "Epoch 225/1000\n",
      "1/1 [==============================] - 0s 45ms/step - loss: 0.2805 - accuracy: 0.9044 - val_loss: 0.8042 - val_accuracy: 0.6452\n",
      "Epoch 226/1000\n",
      "1/1 [==============================] - 0s 44ms/step - loss: 0.2762 - accuracy: 0.8897 - val_loss: 0.8062 - val_accuracy: 0.6452\n",
      "Epoch 227/1000\n",
      "1/1 [==============================] - 0s 46ms/step - loss: 0.2822 - accuracy: 0.8750 - val_loss: 0.8076 - val_accuracy: 0.6452\n",
      "Epoch 228/1000\n",
      "1/1 [==============================] - 0s 55ms/step - loss: 0.2723 - accuracy: 0.8824 - val_loss: 0.8088 - val_accuracy: 0.6452\n",
      "Epoch 229/1000\n",
      "1/1 [==============================] - 0s 50ms/step - loss: 0.2918 - accuracy: 0.8860 - val_loss: 0.8098 - val_accuracy: 0.6452\n",
      "Epoch 230/1000\n",
      "1/1 [==============================] - 0s 54ms/step - loss: 0.2642 - accuracy: 0.8934 - val_loss: 0.8112 - val_accuracy: 0.6452\n",
      "Epoch 231/1000\n",
      "1/1 [==============================] - 0s 47ms/step - loss: 0.2866 - accuracy: 0.8971 - val_loss: 0.8130 - val_accuracy: 0.6452\n",
      "Epoch 232/1000\n",
      "1/1 [==============================] - 0s 47ms/step - loss: 0.2776 - accuracy: 0.8971 - val_loss: 0.8149 - val_accuracy: 0.6452\n",
      "Epoch 233/1000\n",
      "1/1 [==============================] - 0s 46ms/step - loss: 0.2578 - accuracy: 0.9007 - val_loss: 0.8170 - val_accuracy: 0.6452\n",
      "Epoch 234/1000\n",
      "1/1 [==============================] - 0s 51ms/step - loss: 0.2725 - accuracy: 0.9007 - val_loss: 0.8186 - val_accuracy: 0.6452\n",
      "Epoch 235/1000\n",
      "1/1 [==============================] - 0s 54ms/step - loss: 0.2846 - accuracy: 0.8824 - val_loss: 0.8198 - val_accuracy: 0.6452\n",
      "Epoch 236/1000\n",
      "1/1 [==============================] - 0s 50ms/step - loss: 0.2779 - accuracy: 0.8934 - val_loss: 0.8206 - val_accuracy: 0.6452\n",
      "Epoch 237/1000\n",
      "1/1 [==============================] - 0s 47ms/step - loss: 0.2797 - accuracy: 0.9044 - val_loss: 0.8210 - val_accuracy: 0.6452\n",
      "Epoch 238/1000\n",
      "1/1 [==============================] - 0s 50ms/step - loss: 0.2786 - accuracy: 0.8971 - val_loss: 0.8211 - val_accuracy: 0.6452\n",
      "Epoch 239/1000\n",
      "1/1 [==============================] - 0s 44ms/step - loss: 0.2680 - accuracy: 0.9044 - val_loss: 0.8223 - val_accuracy: 0.6452\n",
      "Epoch 240/1000\n",
      "1/1 [==============================] - 0s 48ms/step - loss: 0.2586 - accuracy: 0.9007 - val_loss: 0.8243 - val_accuracy: 0.6452\n",
      "Epoch 241/1000\n",
      "1/1 [==============================] - 0s 66ms/step - loss: 0.2653 - accuracy: 0.8971 - val_loss: 0.8263 - val_accuracy: 0.6452\n",
      "Epoch 242/1000\n",
      "1/1 [==============================] - 0s 43ms/step - loss: 0.2913 - accuracy: 0.8897 - val_loss: 0.8285 - val_accuracy: 0.6452\n",
      "Epoch 243/1000\n",
      "1/1 [==============================] - 0s 51ms/step - loss: 0.2736 - accuracy: 0.9007 - val_loss: 0.8306 - val_accuracy: 0.6452\n",
      "Epoch 244/1000\n",
      "1/1 [==============================] - 0s 49ms/step - loss: 0.2737 - accuracy: 0.8934 - val_loss: 0.8323 - val_accuracy: 0.6452\n",
      "Epoch 245/1000\n",
      "1/1 [==============================] - 0s 51ms/step - loss: 0.2774 - accuracy: 0.8860 - val_loss: 0.8330 - val_accuracy: 0.6452\n",
      "Epoch 246/1000\n",
      "1/1 [==============================] - 0s 53ms/step - loss: 0.2455 - accuracy: 0.9154 - val_loss: 0.8340 - val_accuracy: 0.6452\n",
      "Epoch 247/1000\n",
      "1/1 [==============================] - 0s 56ms/step - loss: 0.2757 - accuracy: 0.8860 - val_loss: 0.8358 - val_accuracy: 0.6452\n",
      "Epoch 248/1000\n",
      "1/1 [==============================] - 0s 50ms/step - loss: 0.2696 - accuracy: 0.8971 - val_loss: 0.8364 - val_accuracy: 0.6452\n",
      "Epoch 249/1000\n",
      "1/1 [==============================] - 0s 46ms/step - loss: 0.2807 - accuracy: 0.9044 - val_loss: 0.8374 - val_accuracy: 0.6452\n",
      "Epoch 250/1000\n",
      "1/1 [==============================] - 0s 47ms/step - loss: 0.2649 - accuracy: 0.9007 - val_loss: 0.8384 - val_accuracy: 0.6452\n",
      "Epoch 251/1000\n",
      "1/1 [==============================] - 0s 57ms/step - loss: 0.2806 - accuracy: 0.8750 - val_loss: 0.8389 - val_accuracy: 0.6452\n",
      "Epoch 252/1000\n",
      "1/1 [==============================] - 0s 54ms/step - loss: 0.2714 - accuracy: 0.9007 - val_loss: 0.8395 - val_accuracy: 0.6452\n",
      "Epoch 253/1000\n",
      "1/1 [==============================] - 0s 58ms/step - loss: 0.2549 - accuracy: 0.8971 - val_loss: 0.8394 - val_accuracy: 0.6452\n",
      "Epoch 254/1000\n",
      "1/1 [==============================] - 0s 47ms/step - loss: 0.2565 - accuracy: 0.8934 - val_loss: 0.8399 - val_accuracy: 0.6452\n",
      "Epoch 255/1000\n",
      "1/1 [==============================] - 0s 41ms/step - loss: 0.2751 - accuracy: 0.8787 - val_loss: 0.8407 - val_accuracy: 0.6452\n",
      "Epoch 256/1000\n",
      "1/1 [==============================] - 0s 42ms/step - loss: 0.2503 - accuracy: 0.9191 - val_loss: 0.8419 - val_accuracy: 0.6452\n",
      "Epoch 257/1000\n",
      "1/1 [==============================] - 0s 43ms/step - loss: 0.2639 - accuracy: 0.8971 - val_loss: 0.8430 - val_accuracy: 0.6452\n",
      "Epoch 258/1000\n",
      "1/1 [==============================] - 0s 43ms/step - loss: 0.2431 - accuracy: 0.9081 - val_loss: 0.8446 - val_accuracy: 0.6452\n",
      "Epoch 259/1000\n",
      "1/1 [==============================] - 0s 43ms/step - loss: 0.2637 - accuracy: 0.9044 - val_loss: 0.8460 - val_accuracy: 0.6452\n",
      "Epoch 260/1000\n",
      "1/1 [==============================] - 0s 42ms/step - loss: 0.2597 - accuracy: 0.8934 - val_loss: 0.8469 - val_accuracy: 0.6452\n",
      "Epoch 261/1000\n",
      "1/1 [==============================] - 0s 44ms/step - loss: 0.2536 - accuracy: 0.9081 - val_loss: 0.8487 - val_accuracy: 0.6452\n",
      "Epoch 262/1000\n",
      "1/1 [==============================] - 0s 42ms/step - loss: 0.2508 - accuracy: 0.9044 - val_loss: 0.8507 - val_accuracy: 0.6452\n",
      "Epoch 263/1000\n",
      "1/1 [==============================] - 0s 44ms/step - loss: 0.2568 - accuracy: 0.9228 - val_loss: 0.8526 - val_accuracy: 0.6452\n",
      "Epoch 264/1000\n",
      "1/1 [==============================] - 0s 45ms/step - loss: 0.2261 - accuracy: 0.9449 - val_loss: 0.8542 - val_accuracy: 0.6452\n",
      "Epoch 265/1000\n",
      "1/1 [==============================] - 0s 45ms/step - loss: 0.2584 - accuracy: 0.9191 - val_loss: 0.8566 - val_accuracy: 0.6452\n",
      "Epoch 266/1000\n",
      "1/1 [==============================] - 0s 43ms/step - loss: 0.2788 - accuracy: 0.8971 - val_loss: 0.8576 - val_accuracy: 0.6452\n",
      "Epoch 267/1000\n",
      "1/1 [==============================] - 0s 42ms/step - loss: 0.2437 - accuracy: 0.9044 - val_loss: 0.8583 - val_accuracy: 0.6452\n",
      "Epoch 268/1000\n",
      "1/1 [==============================] - 0s 43ms/step - loss: 0.2437 - accuracy: 0.9118 - val_loss: 0.8578 - val_accuracy: 0.6452\n",
      "Epoch 269/1000\n",
      "1/1 [==============================] - 0s 45ms/step - loss: 0.2458 - accuracy: 0.8971 - val_loss: 0.8569 - val_accuracy: 0.6452\n",
      "Epoch 270/1000\n",
      "1/1 [==============================] - 0s 44ms/step - loss: 0.2711 - accuracy: 0.9118 - val_loss: 0.8556 - val_accuracy: 0.6452\n",
      "Epoch 271/1000\n",
      "1/1 [==============================] - 0s 43ms/step - loss: 0.2823 - accuracy: 0.9007 - val_loss: 0.8546 - val_accuracy: 0.6452\n",
      "Epoch 272/1000\n",
      "1/1 [==============================] - 0s 44ms/step - loss: 0.2213 - accuracy: 0.9191 - val_loss: 0.8535 - val_accuracy: 0.6452\n",
      "Epoch 273/1000\n",
      "1/1 [==============================] - 0s 44ms/step - loss: 0.2428 - accuracy: 0.9118 - val_loss: 0.8531 - val_accuracy: 0.6452\n",
      "Epoch 274/1000\n",
      "1/1 [==============================] - 0s 42ms/step - loss: 0.2626 - accuracy: 0.9007 - val_loss: 0.8540 - val_accuracy: 0.6452\n",
      "Epoch 275/1000\n",
      "1/1 [==============================] - 0s 44ms/step - loss: 0.2422 - accuracy: 0.9118 - val_loss: 0.8543 - val_accuracy: 0.6452\n",
      "Epoch 276/1000\n",
      "1/1 [==============================] - 0s 43ms/step - loss: 0.2400 - accuracy: 0.9191 - val_loss: 0.8547 - val_accuracy: 0.6452\n",
      "Epoch 277/1000\n",
      "1/1 [==============================] - 0s 44ms/step - loss: 0.2382 - accuracy: 0.9191 - val_loss: 0.8560 - val_accuracy: 0.6452\n",
      "Epoch 278/1000\n",
      "1/1 [==============================] - 0s 43ms/step - loss: 0.2657 - accuracy: 0.9081 - val_loss: 0.8569 - val_accuracy: 0.6452\n",
      "Epoch 279/1000\n",
      "1/1 [==============================] - 0s 43ms/step - loss: 0.2593 - accuracy: 0.9081 - val_loss: 0.8583 - val_accuracy: 0.6452\n",
      "Epoch 280/1000\n",
      "1/1 [==============================] - 0s 42ms/step - loss: 0.2477 - accuracy: 0.9118 - val_loss: 0.8595 - val_accuracy: 0.6452\n",
      "Epoch 281/1000\n",
      "1/1 [==============================] - 0s 41ms/step - loss: 0.2595 - accuracy: 0.9118 - val_loss: 0.8603 - val_accuracy: 0.6452\n",
      "Epoch 282/1000\n",
      "1/1 [==============================] - 0s 43ms/step - loss: 0.2862 - accuracy: 0.8934 - val_loss: 0.8589 - val_accuracy: 0.6452\n",
      "Epoch 283/1000\n",
      "1/1 [==============================] - 0s 42ms/step - loss: 0.2773 - accuracy: 0.9081 - val_loss: 0.8569 - val_accuracy: 0.6452\n",
      "Epoch 284/1000\n",
      "1/1 [==============================] - 0s 44ms/step - loss: 0.2344 - accuracy: 0.9081 - val_loss: 0.8551 - val_accuracy: 0.6452\n",
      "Epoch 285/1000\n",
      "1/1 [==============================] - 0s 44ms/step - loss: 0.2428 - accuracy: 0.9338 - val_loss: 0.8536 - val_accuracy: 0.6452\n",
      "Epoch 286/1000\n",
      "1/1 [==============================] - 0s 43ms/step - loss: 0.2416 - accuracy: 0.9118 - val_loss: 0.8528 - val_accuracy: 0.6452\n",
      "Epoch 287/1000\n",
      "1/1 [==============================] - 0s 41ms/step - loss: 0.2563 - accuracy: 0.9081 - val_loss: 0.8524 - val_accuracy: 0.6452\n",
      "Epoch 288/1000\n",
      "1/1 [==============================] - 0s 44ms/step - loss: 0.2411 - accuracy: 0.9301 - val_loss: 0.8534 - val_accuracy: 0.6452\n",
      "Epoch 289/1000\n",
      "1/1 [==============================] - 0s 44ms/step - loss: 0.2713 - accuracy: 0.8860 - val_loss: 0.8539 - val_accuracy: 0.6452\n",
      "Epoch 290/1000\n",
      "1/1 [==============================] - 0s 43ms/step - loss: 0.2688 - accuracy: 0.9007 - val_loss: 0.8544 - val_accuracy: 0.6452\n",
      "Epoch 291/1000\n",
      "1/1 [==============================] - 0s 44ms/step - loss: 0.2288 - accuracy: 0.9191 - val_loss: 0.8561 - val_accuracy: 0.6452\n",
      "Epoch 292/1000\n",
      "1/1 [==============================] - 0s 47ms/step - loss: 0.2430 - accuracy: 0.9118 - val_loss: 0.8579 - val_accuracy: 0.6452\n",
      "Epoch 293/1000\n",
      "1/1 [==============================] - 0s 46ms/step - loss: 0.2207 - accuracy: 0.9191 - val_loss: 0.8596 - val_accuracy: 0.6452\n",
      "Epoch 294/1000\n",
      "1/1 [==============================] - 0s 45ms/step - loss: 0.2571 - accuracy: 0.9007 - val_loss: 0.8605 - val_accuracy: 0.6452\n",
      "Epoch 295/1000\n",
      "1/1 [==============================] - 0s 46ms/step - loss: 0.2473 - accuracy: 0.8897 - val_loss: 0.8621 - val_accuracy: 0.6452\n",
      "Epoch 296/1000\n",
      "1/1 [==============================] - 0s 45ms/step - loss: 0.2390 - accuracy: 0.9154 - val_loss: 0.8639 - val_accuracy: 0.6452\n",
      "Epoch 297/1000\n",
      "1/1 [==============================] - 0s 44ms/step - loss: 0.2270 - accuracy: 0.9118 - val_loss: 0.8655 - val_accuracy: 0.6452\n",
      "Epoch 298/1000\n",
      "1/1 [==============================] - 0s 43ms/step - loss: 0.2464 - accuracy: 0.9154 - val_loss: 0.8664 - val_accuracy: 0.6452\n",
      "Epoch 299/1000\n",
      "1/1 [==============================] - 0s 43ms/step - loss: 0.2592 - accuracy: 0.9154 - val_loss: 0.8678 - val_accuracy: 0.6452\n",
      "Epoch 300/1000\n",
      "1/1 [==============================] - 0s 44ms/step - loss: 0.2894 - accuracy: 0.8934 - val_loss: 0.8698 - val_accuracy: 0.6452\n",
      "Epoch 301/1000\n",
      "1/1 [==============================] - 0s 44ms/step - loss: 0.2082 - accuracy: 0.9265 - val_loss: 0.8716 - val_accuracy: 0.6452\n",
      "Epoch 302/1000\n",
      "1/1 [==============================] - 0s 44ms/step - loss: 0.2252 - accuracy: 0.9301 - val_loss: 0.8748 - val_accuracy: 0.6452\n",
      "Epoch 303/1000\n",
      "1/1 [==============================] - 0s 43ms/step - loss: 0.2398 - accuracy: 0.9154 - val_loss: 0.8780 - val_accuracy: 0.6452\n",
      "Epoch 304/1000\n",
      "1/1 [==============================] - 0s 45ms/step - loss: 0.2216 - accuracy: 0.9301 - val_loss: 0.8813 - val_accuracy: 0.6452\n",
      "Epoch 305/1000\n",
      "1/1 [==============================] - 0s 46ms/step - loss: 0.2314 - accuracy: 0.9081 - val_loss: 0.8839 - val_accuracy: 0.6452\n",
      "Epoch 306/1000\n",
      "1/1 [==============================] - 0s 47ms/step - loss: 0.2597 - accuracy: 0.8897 - val_loss: 0.8864 - val_accuracy: 0.6452\n",
      "Epoch 307/1000\n",
      "1/1 [==============================] - 0s 47ms/step - loss: 0.2420 - accuracy: 0.9191 - val_loss: 0.8882 - val_accuracy: 0.6452\n",
      "Epoch 308/1000\n",
      "1/1 [==============================] - 0s 44ms/step - loss: 0.2406 - accuracy: 0.9044 - val_loss: 0.8902 - val_accuracy: 0.6452\n",
      "Epoch 309/1000\n",
      "1/1 [==============================] - 0s 45ms/step - loss: 0.2343 - accuracy: 0.9081 - val_loss: 0.8920 - val_accuracy: 0.6452\n",
      "Epoch 310/1000\n",
      "1/1 [==============================] - 0s 45ms/step - loss: 0.2357 - accuracy: 0.9118 - val_loss: 0.8932 - val_accuracy: 0.6452\n",
      "Epoch 311/1000\n",
      "1/1 [==============================] - 0s 44ms/step - loss: 0.2337 - accuracy: 0.9301 - val_loss: 0.8940 - val_accuracy: 0.6452\n",
      "Epoch 312/1000\n",
      "1/1 [==============================] - 0s 46ms/step - loss: 0.2403 - accuracy: 0.9007 - val_loss: 0.8940 - val_accuracy: 0.6452\n",
      "Epoch 313/1000\n",
      "1/1 [==============================] - 0s 47ms/step - loss: 0.2438 - accuracy: 0.9081 - val_loss: 0.8939 - val_accuracy: 0.6452\n",
      "Epoch 314/1000\n",
      "1/1 [==============================] - 0s 47ms/step - loss: 0.2453 - accuracy: 0.8971 - val_loss: 0.8933 - val_accuracy: 0.6452\n",
      "Epoch 315/1000\n",
      "1/1 [==============================] - 0s 45ms/step - loss: 0.2567 - accuracy: 0.9044 - val_loss: 0.8935 - val_accuracy: 0.6452\n",
      "Epoch 316/1000\n",
      "1/1 [==============================] - 0s 43ms/step - loss: 0.2495 - accuracy: 0.9265 - val_loss: 0.8927 - val_accuracy: 0.6452\n",
      "Epoch 317/1000\n",
      "1/1 [==============================] - 0s 43ms/step - loss: 0.2196 - accuracy: 0.9154 - val_loss: 0.8925 - val_accuracy: 0.6452\n",
      "Epoch 318/1000\n",
      "1/1 [==============================] - 0s 45ms/step - loss: 0.2328 - accuracy: 0.9265 - val_loss: 0.8921 - val_accuracy: 0.6452\n",
      "Epoch 319/1000\n",
      "1/1 [==============================] - 0s 44ms/step - loss: 0.2747 - accuracy: 0.8713 - val_loss: 0.8913 - val_accuracy: 0.6452\n",
      "Epoch 320/1000\n",
      "1/1 [==============================] - 0s 44ms/step - loss: 0.2295 - accuracy: 0.9191 - val_loss: 0.8916 - val_accuracy: 0.6452\n",
      "Epoch 321/1000\n",
      "1/1 [==============================] - 0s 45ms/step - loss: 0.2436 - accuracy: 0.9044 - val_loss: 0.8917 - val_accuracy: 0.6452\n",
      "Epoch 322/1000\n",
      "1/1 [==============================] - 0s 45ms/step - loss: 0.2531 - accuracy: 0.9044 - val_loss: 0.8920 - val_accuracy: 0.6452\n",
      "Epoch 323/1000\n",
      "1/1 [==============================] - 0s 46ms/step - loss: 0.2637 - accuracy: 0.8934 - val_loss: 0.8922 - val_accuracy: 0.6452\n",
      "Epoch 324/1000\n",
      "1/1 [==============================] - 0s 44ms/step - loss: 0.2175 - accuracy: 0.9228 - val_loss: 0.8914 - val_accuracy: 0.6452\n",
      "Epoch 325/1000\n",
      "1/1 [==============================] - 0s 43ms/step - loss: 0.2211 - accuracy: 0.9154 - val_loss: 0.8916 - val_accuracy: 0.6452\n",
      "Epoch 326/1000\n",
      "1/1 [==============================] - 0s 48ms/step - loss: 0.2254 - accuracy: 0.9338 - val_loss: 0.8924 - val_accuracy: 0.6452\n",
      "Epoch 327/1000\n",
      "1/1 [==============================] - 0s 50ms/step - loss: 0.2319 - accuracy: 0.9191 - val_loss: 0.8924 - val_accuracy: 0.6452\n",
      "Epoch 328/1000\n",
      "1/1 [==============================] - 0s 50ms/step - loss: 0.2250 - accuracy: 0.9228 - val_loss: 0.8931 - val_accuracy: 0.6452\n",
      "Epoch 329/1000\n",
      "1/1 [==============================] - 0s 46ms/step - loss: 0.2419 - accuracy: 0.9081 - val_loss: 0.8932 - val_accuracy: 0.6452\n",
      "Epoch 330/1000\n",
      "1/1 [==============================] - 0s 48ms/step - loss: 0.2244 - accuracy: 0.9265 - val_loss: 0.8933 - val_accuracy: 0.6452\n",
      "Epoch 331/1000\n",
      "1/1 [==============================] - 0s 49ms/step - loss: 0.2485 - accuracy: 0.9081 - val_loss: 0.8931 - val_accuracy: 0.6452\n",
      "Epoch 332/1000\n",
      "1/1 [==============================] - 0s 46ms/step - loss: 0.2315 - accuracy: 0.9301 - val_loss: 0.8923 - val_accuracy: 0.6452\n",
      "Epoch 333/1000\n",
      "1/1 [==============================] - 0s 46ms/step - loss: 0.2210 - accuracy: 0.9081 - val_loss: 0.8913 - val_accuracy: 0.6452\n",
      "Epoch 334/1000\n",
      "1/1 [==============================] - 0s 44ms/step - loss: 0.2118 - accuracy: 0.9081 - val_loss: 0.8904 - val_accuracy: 0.6452\n",
      "Epoch 335/1000\n",
      "1/1 [==============================] - 0s 44ms/step - loss: 0.2350 - accuracy: 0.9007 - val_loss: 0.8891 - val_accuracy: 0.6452\n",
      "Epoch 336/1000\n",
      "1/1 [==============================] - 0s 45ms/step - loss: 0.2521 - accuracy: 0.9118 - val_loss: 0.8880 - val_accuracy: 0.6452\n",
      "Epoch 337/1000\n",
      "1/1 [==============================] - 0s 47ms/step - loss: 0.2230 - accuracy: 0.9191 - val_loss: 0.8880 - val_accuracy: 0.6452\n",
      "Epoch 338/1000\n",
      "1/1 [==============================] - 0s 45ms/step - loss: 0.2260 - accuracy: 0.9265 - val_loss: 0.8886 - val_accuracy: 0.6452\n",
      "Epoch 339/1000\n",
      "1/1 [==============================] - 0s 48ms/step - loss: 0.2236 - accuracy: 0.9191 - val_loss: 0.8898 - val_accuracy: 0.6452\n",
      "Epoch 340/1000\n",
      "1/1 [==============================] - 0s 43ms/step - loss: 0.2250 - accuracy: 0.9301 - val_loss: 0.8919 - val_accuracy: 0.6452\n",
      "Epoch 341/1000\n",
      "1/1 [==============================] - 0s 44ms/step - loss: 0.2360 - accuracy: 0.9228 - val_loss: 0.8949 - val_accuracy: 0.6452\n",
      "Epoch 342/1000\n",
      "1/1 [==============================] - 0s 44ms/step - loss: 0.2277 - accuracy: 0.9228 - val_loss: 0.8987 - val_accuracy: 0.6452\n",
      "Epoch 343/1000\n",
      "1/1 [==============================] - 0s 45ms/step - loss: 0.2169 - accuracy: 0.9118 - val_loss: 0.9018 - val_accuracy: 0.6452\n",
      "Epoch 344/1000\n",
      "1/1 [==============================] - 0s 42ms/step - loss: 0.2168 - accuracy: 0.9154 - val_loss: 0.9047 - val_accuracy: 0.6452\n",
      "Epoch 345/1000\n",
      "1/1 [==============================] - 0s 44ms/step - loss: 0.2122 - accuracy: 0.9338 - val_loss: 0.9081 - val_accuracy: 0.6452\n",
      "Epoch 346/1000\n",
      "1/1 [==============================] - 0s 45ms/step - loss: 0.2338 - accuracy: 0.9265 - val_loss: 0.9111 - val_accuracy: 0.6452\n",
      "Epoch 347/1000\n",
      "1/1 [==============================] - 0s 46ms/step - loss: 0.2513 - accuracy: 0.9154 - val_loss: 0.9138 - val_accuracy: 0.6452\n",
      "Epoch 348/1000\n",
      "1/1 [==============================] - 0s 44ms/step - loss: 0.2247 - accuracy: 0.9154 - val_loss: 0.9164 - val_accuracy: 0.6452\n",
      "Epoch 349/1000\n",
      "1/1 [==============================] - 0s 43ms/step - loss: 0.2195 - accuracy: 0.9154 - val_loss: 0.9191 - val_accuracy: 0.6452\n",
      "Epoch 350/1000\n",
      "1/1 [==============================] - 0s 46ms/step - loss: 0.2142 - accuracy: 0.9375 - val_loss: 0.9218 - val_accuracy: 0.6452\n",
      "Epoch 351/1000\n",
      "1/1 [==============================] - 0s 45ms/step - loss: 0.2028 - accuracy: 0.9191 - val_loss: 0.9242 - val_accuracy: 0.6452\n",
      "Epoch 352/1000\n",
      "1/1 [==============================] - 0s 44ms/step - loss: 0.1986 - accuracy: 0.9265 - val_loss: 0.9265 - val_accuracy: 0.6452\n",
      "Epoch 353/1000\n",
      "1/1 [==============================] - 0s 45ms/step - loss: 0.2525 - accuracy: 0.9154 - val_loss: 0.9283 - val_accuracy: 0.6452\n",
      "Epoch 354/1000\n",
      "1/1 [==============================] - 0s 49ms/step - loss: 0.2135 - accuracy: 0.9154 - val_loss: 0.9303 - val_accuracy: 0.6452\n",
      "Epoch 355/1000\n",
      "1/1 [==============================] - 0s 49ms/step - loss: 0.2304 - accuracy: 0.9044 - val_loss: 0.9315 - val_accuracy: 0.6452\n",
      "Epoch 356/1000\n",
      "1/1 [==============================] - 0s 50ms/step - loss: 0.2172 - accuracy: 0.9191 - val_loss: 0.9324 - val_accuracy: 0.6452\n",
      "Epoch 357/1000\n",
      "1/1 [==============================] - 0s 51ms/step - loss: 0.1982 - accuracy: 0.9338 - val_loss: 0.9334 - val_accuracy: 0.6452\n",
      "Epoch 358/1000\n",
      "1/1 [==============================] - 0s 44ms/step - loss: 0.2077 - accuracy: 0.9265 - val_loss: 0.9349 - val_accuracy: 0.6452\n",
      "Epoch 359/1000\n",
      "1/1 [==============================] - 0s 45ms/step - loss: 0.2253 - accuracy: 0.9228 - val_loss: 0.9347 - val_accuracy: 0.6452\n",
      "Epoch 360/1000\n",
      "1/1 [==============================] - 0s 42ms/step - loss: 0.2155 - accuracy: 0.9228 - val_loss: 0.9344 - val_accuracy: 0.6452\n",
      "Epoch 361/1000\n",
      "1/1 [==============================] - 0s 43ms/step - loss: 0.2138 - accuracy: 0.9412 - val_loss: 0.9342 - val_accuracy: 0.6452\n",
      "Epoch 362/1000\n",
      "1/1 [==============================] - 0s 43ms/step - loss: 0.2181 - accuracy: 0.9338 - val_loss: 0.9342 - val_accuracy: 0.6452\n",
      "Epoch 363/1000\n",
      "1/1 [==============================] - 0s 44ms/step - loss: 0.2221 - accuracy: 0.9191 - val_loss: 0.9359 - val_accuracy: 0.6452\n",
      "Epoch 364/1000\n",
      "1/1 [==============================] - 0s 48ms/step - loss: 0.2211 - accuracy: 0.9118 - val_loss: 0.9380 - val_accuracy: 0.6452\n"
     ]
    },
    {
     "data": {
      "text/plain": [
       "<keras.callbacks.History at 0x7fc1079dfe50>"
      ]
     },
     "execution_count": 20,
     "metadata": {},
     "output_type": "execute_result"
    }
   ],
   "source": [
    "model.fit(df,y,epochs=1000,batch_size=10000,validation_split=0.10,callbacks=cb)"
   ]
  },
  {
   "cell_type": "code",
   "execution_count": null,
   "id": "f0580f25",
   "metadata": {
    "papermill": {
     "duration": 0.067788,
     "end_time": "2022-11-07T05:49:46.884115",
     "exception": false,
     "start_time": "2022-11-07T05:49:46.816327",
     "status": "completed"
    },
    "tags": []
   },
   "outputs": [],
   "source": []
  },
  {
   "cell_type": "code",
   "execution_count": null,
   "id": "273b7ef2",
   "metadata": {
    "papermill": {
     "duration": 0.065156,
     "end_time": "2022-11-07T05:49:47.017984",
     "exception": false,
     "start_time": "2022-11-07T05:49:46.952828",
     "status": "completed"
    },
    "tags": []
   },
   "outputs": [],
   "source": []
  }
 ],
 "metadata": {
  "kernelspec": {
   "display_name": "Python 3",
   "language": "python",
   "name": "python3"
  },
  "language_info": {
   "codemirror_mode": {
    "name": "ipython",
    "version": 3
   },
   "file_extension": ".py",
   "mimetype": "text/x-python",
   "name": "python",
   "nbconvert_exporter": "python",
   "pygments_lexer": "ipython3",
   "version": "3.7.12"
  },
  "papermill": {
   "default_parameters": {},
   "duration": 44.025154,
   "end_time": "2022-11-07T05:49:49.704178",
   "environment_variables": {},
   "exception": null,
   "input_path": "__notebook__.ipynb",
   "output_path": "__notebook__.ipynb",
   "parameters": {},
   "start_time": "2022-11-07T05:49:05.679024",
   "version": "2.3.4"
  }
 },
 "nbformat": 4,
 "nbformat_minor": 5
}
